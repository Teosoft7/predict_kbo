{
 "cells": [
  {
   "cell_type": "markdown",
   "metadata": {},
   "source": [
    "# Predict KBO\n",
    "\n",
    "## Predict the champion team of KBO(Korea Baseball Organization) league\n",
    "\n",
    "Based on last 10yrs stats, let's predict the champ of KBO league\n",
    "\n",
    "I'm going to use several classifier with SciKit-Learn and predict champs team and qualifiers for playoff.\n"
   ]
  },
  {
   "cell_type": "markdown",
   "metadata": {},
   "source": [
    "### Import necessary libraries"
   ]
  },
  {
   "cell_type": "code",
   "execution_count": 1,
   "metadata": {},
   "outputs": [],
   "source": [
    "import pandas as pd\n",
    "import numpy as np\n",
    "\n",
    "import matplotlib as mpl\n",
    "from matplotlib import pyplot as plt\n",
    "import matplotlib.font_manager as fm\n",
    "import seaborn as sns\n",
    "\n",
    "%matplotlib inline\n",
    "mpl.rcParams['axes.unicode_minus'] = False\n",
    "plt.style.use('seaborn-colorblind')\n",
    "\n",
    "from sklearn.pipeline import Pipeline\n",
    "from sklearn.model_selection import train_test_split\n",
    "from sklearn.preprocessing import StandardScaler\n",
    "from sklearn.linear_model import LogisticRegression"
   ]
  },
  {
   "cell_type": "markdown",
   "metadata": {},
   "source": [
    "### Understanding the data set"
   ]
  },
  {
   "cell_type": "code",
   "execution_count": 2,
   "metadata": {},
   "outputs": [],
   "source": [
    "# Read Data \n",
    "df = pd.read_csv('./data/kbo_data.csv')"
   ]
  },
  {
   "cell_type": "code",
   "execution_count": 3,
   "metadata": {},
   "outputs": [
    {
     "data": {
      "text/html": [
       "<div>\n",
       "<style scoped>\n",
       "    .dataframe tbody tr th:only-of-type {\n",
       "        vertical-align: middle;\n",
       "    }\n",
       "\n",
       "    .dataframe tbody tr th {\n",
       "        vertical-align: top;\n",
       "    }\n",
       "\n",
       "    .dataframe thead th {\n",
       "        text-align: right;\n",
       "    }\n",
       "</style>\n",
       "<table border=\"1\" class=\"dataframe\">\n",
       "  <thead>\n",
       "    <tr style=\"text-align: right;\">\n",
       "      <th></th>\n",
       "      <th>WIN</th>\n",
       "      <th>POST</th>\n",
       "      <th>YEAR</th>\n",
       "      <th>TEAM</th>\n",
       "      <th>AVG</th>\n",
       "      <th>G</th>\n",
       "      <th>PA</th>\n",
       "      <th>AB</th>\n",
       "      <th>R</th>\n",
       "      <th>H</th>\n",
       "      <th>...</th>\n",
       "      <th>PB</th>\n",
       "      <th>SB_A</th>\n",
       "      <th>CS_A</th>\n",
       "      <th>CS%</th>\n",
       "      <th>SBA</th>\n",
       "      <th>SB</th>\n",
       "      <th>CS</th>\n",
       "      <th>SB%</th>\n",
       "      <th>OOB</th>\n",
       "      <th>PKO.1</th>\n",
       "    </tr>\n",
       "  </thead>\n",
       "  <tbody>\n",
       "    <tr>\n",
       "      <th>0</th>\n",
       "      <td>N</td>\n",
       "      <td>N</td>\n",
       "      <td>2010</td>\n",
       "      <td>넥센</td>\n",
       "      <td>0.262</td>\n",
       "      <td>133</td>\n",
       "      <td>5139</td>\n",
       "      <td>4452</td>\n",
       "      <td>570</td>\n",
       "      <td>1165</td>\n",
       "      <td>...</td>\n",
       "      <td>9</td>\n",
       "      <td>160</td>\n",
       "      <td>68</td>\n",
       "      <td>29.8</td>\n",
       "      <td>191</td>\n",
       "      <td>135</td>\n",
       "      <td>56</td>\n",
       "      <td>70.7</td>\n",
       "      <td>56</td>\n",
       "      <td>5</td>\n",
       "    </tr>\n",
       "    <tr>\n",
       "      <th>1</th>\n",
       "      <td>N</td>\n",
       "      <td>Y</td>\n",
       "      <td>2010</td>\n",
       "      <td>두산</td>\n",
       "      <td>0.281</td>\n",
       "      <td>133</td>\n",
       "      <td>5252</td>\n",
       "      <td>4538</td>\n",
       "      <td>731</td>\n",
       "      <td>1276</td>\n",
       "      <td>...</td>\n",
       "      <td>8</td>\n",
       "      <td>119</td>\n",
       "      <td>44</td>\n",
       "      <td>27.0</td>\n",
       "      <td>189</td>\n",
       "      <td>128</td>\n",
       "      <td>61</td>\n",
       "      <td>67.7</td>\n",
       "      <td>56</td>\n",
       "      <td>12</td>\n",
       "    </tr>\n",
       "    <tr>\n",
       "      <th>2</th>\n",
       "      <td>N</td>\n",
       "      <td>Y</td>\n",
       "      <td>2010</td>\n",
       "      <td>롯데</td>\n",
       "      <td>0.288</td>\n",
       "      <td>133</td>\n",
       "      <td>5261</td>\n",
       "      <td>4673</td>\n",
       "      <td>773</td>\n",
       "      <td>1345</td>\n",
       "      <td>...</td>\n",
       "      <td>6</td>\n",
       "      <td>131</td>\n",
       "      <td>62</td>\n",
       "      <td>32.1</td>\n",
       "      <td>175</td>\n",
       "      <td>124</td>\n",
       "      <td>51</td>\n",
       "      <td>70.9</td>\n",
       "      <td>62</td>\n",
       "      <td>7</td>\n",
       "    </tr>\n",
       "    <tr>\n",
       "      <th>3</th>\n",
       "      <td>N</td>\n",
       "      <td>Y</td>\n",
       "      <td>2010</td>\n",
       "      <td>삼성</td>\n",
       "      <td>0.272</td>\n",
       "      <td>133</td>\n",
       "      <td>5287</td>\n",
       "      <td>4436</td>\n",
       "      <td>681</td>\n",
       "      <td>1207</td>\n",
       "      <td>...</td>\n",
       "      <td>6</td>\n",
       "      <td>134</td>\n",
       "      <td>65</td>\n",
       "      <td>32.7</td>\n",
       "      <td>213</td>\n",
       "      <td>158</td>\n",
       "      <td>55</td>\n",
       "      <td>74.2</td>\n",
       "      <td>54</td>\n",
       "      <td>8</td>\n",
       "    </tr>\n",
       "    <tr>\n",
       "      <th>4</th>\n",
       "      <td>N</td>\n",
       "      <td>N</td>\n",
       "      <td>2010</td>\n",
       "      <td>한화</td>\n",
       "      <td>0.244</td>\n",
       "      <td>133</td>\n",
       "      <td>5009</td>\n",
       "      <td>4321</td>\n",
       "      <td>543</td>\n",
       "      <td>1053</td>\n",
       "      <td>...</td>\n",
       "      <td>7</td>\n",
       "      <td>151</td>\n",
       "      <td>58</td>\n",
       "      <td>27.8</td>\n",
       "      <td>191</td>\n",
       "      <td>121</td>\n",
       "      <td>70</td>\n",
       "      <td>63.4</td>\n",
       "      <td>56</td>\n",
       "      <td>11</td>\n",
       "    </tr>\n",
       "  </tbody>\n",
       "</table>\n",
       "<p>5 rows × 73 columns</p>\n",
       "</div>"
      ],
      "text/plain": [
       "  WIN POST  YEAR TEAM    AVG    G    PA    AB    R     H  ...  PB  SB_A  CS_A  \\\n",
       "0   N    N  2010   넥센  0.262  133  5139  4452  570  1165  ...   9   160    68   \n",
       "1   N    Y  2010   두산  0.281  133  5252  4538  731  1276  ...   8   119    44   \n",
       "2   N    Y  2010   롯데  0.288  133  5261  4673  773  1345  ...   6   131    62   \n",
       "3   N    Y  2010   삼성  0.272  133  5287  4436  681  1207  ...   6   134    65   \n",
       "4   N    N  2010   한화  0.244  133  5009  4321  543  1053  ...   7   151    58   \n",
       "\n",
       "    CS%  SBA   SB  CS   SB%  OOB  PKO.1  \n",
       "0  29.8  191  135  56  70.7   56      5  \n",
       "1  27.0  189  128  61  67.7   56     12  \n",
       "2  32.1  175  124  51  70.9   62      7  \n",
       "3  32.7  213  158  55  74.2   54      8  \n",
       "4  27.8  191  121  70  63.4   56     11  \n",
       "\n",
       "[5 rows x 73 columns]"
      ]
     },
     "execution_count": 3,
     "metadata": {},
     "output_type": "execute_result"
    }
   ],
   "source": [
    "df.head(5)"
   ]
  },
  {
   "cell_type": "markdown",
   "metadata": {},
   "source": [
    "### Check stats for champion\n",
    "Only use ratio features, because it is in middle of season.\n",
    "\n",
    "- AVG : batting AVeraGe \n",
    "- OPS : On base Plus Slugging\n",
    "- RISP : batting AVG at Runner In Scoring Position\n",
    "- PH-BA : Pinch Hitter - Batting Average\n",
    "- ERA : Earned Runs Average\n",
    "- WHIP : Walks Plus Hits Divided by Innings Pitched\n",
    "- FPCT : Fielding PerCenTage"
   ]
  },
  {
   "cell_type": "code",
   "execution_count": 4,
   "metadata": {},
   "outputs": [],
   "source": [
    "# features : AVG, OPS, RISP(Runner In Scoring Position) AVG, PH-BA(Pinch Hitter - Batting Average), ERA, WHIP, FPCT(Fielding PerCenTage)\n",
    "features = ['AVG', 'OPS', 'RISP', 'PH-BA', 'ERA', 'WHIP', 'FPCT']"
   ]
  },
  {
   "cell_type": "code",
   "execution_count": 5,
   "metadata": {},
   "outputs": [
    {
     "data": {
      "text/plain": [
       "['AVG', 'OPS', 'RISP', 'PH-BA', 'ERA', 'WHIP', 'FPCT']"
      ]
     },
     "execution_count": 5,
     "metadata": {},
     "output_type": "execute_result"
    }
   ],
   "source": [
    "list(df.loc[df['WIN'] == 1, features])"
   ]
  },
  {
   "cell_type": "code",
   "execution_count": 6,
   "metadata": {},
   "outputs": [
    {
     "data": {
      "text/plain": [
       "AVG      0.288889\n",
       "OPS      0.805778\n",
       "RISP     0.300111\n",
       "PH-BA    0.225222\n",
       "ERA      4.206667\n",
       "WHIP     1.384444\n",
       "FPCT     0.984444\n",
       "dtype: float64"
      ]
     },
     "execution_count": 6,
     "metadata": {},
     "output_type": "execute_result"
    }
   ],
   "source": [
    "df.loc[df['WIN'] == 'Y', features].mean()"
   ]
  },
  {
   "cell_type": "code",
   "execution_count": 7,
   "metadata": {},
   "outputs": [
    {
     "data": {
      "image/png": "[encoded data removed]",
      "text/plain": [
       "<Figure size 432x288 with 1 Axes>"
      ]
     },
     "metadata": {
      "needs_background": "light"
     },
     "output_type": "display_data"
    }
   ],
   "source": [
    "# Draw a chart with matplotlib\n",
    "\n",
    "fig, ax = plt.subplots(figsize=(6, 4))\n",
    "ax.bar(features, df.loc[df['WIN'] =='Y', features].mean(), color='#007acc', alpha=.3)\n",
    "ax.grid(False)\n",
    "ax.set_yticks([])\n",
    "\n",
    "fig.suptitle('Average stats of last 10 champs', fontsize=20)\n",
    "\n",
    "for rect in ax.patches:\n",
    "    y_value = rect.get_height()\n",
    "    x_value = rect.get_x() + rect.get_width() / 2\n",
    "\n",
    "    label = '{:.3f}'.format(y_value)\n",
    "    plt.annotate(label, (x_value, y_value), ha='center' )\n",
    "\n",
    "plt.show()"
   ]
  },
  {
   "cell_type": "code",
   "execution_count": 8,
   "metadata": {},
   "outputs": [
    {
     "data": {
      "image/png": "[encoded data removed]",
      "text/plain": [
       "<Figure size 432x288 with 1 Axes>"
      ]
     },
     "metadata": {
      "needs_background": "light"
     },
     "output_type": "display_data"
    }
   ],
   "source": [
    "#plt.title('Average stats of last 10 champions', fontsize=25)\n",
    "\n",
    "fig, ax = plt.subplots(figsize=(6, 4))\n",
    "ax.bar(features, df.loc[df['POST'] =='Y', features].mean(), color='#007acc', alpha=.3)\n",
    "ax.grid(False)\n",
    "ax.set_yticks([])\n",
    "\n",
    "fig.suptitle('Average stats of postseason qualifiers of last 10 seasons', fontsize=12)\n",
    "\n",
    "for rect in ax.patches:\n",
    "    y_value = rect.get_height()\n",
    "    x_value = rect.get_x() + rect.get_width() / 2\n",
    "\n",
    "    label = '{:.3f}'.format(y_value)\n",
    "    plt.annotate(label, (x_value, y_value), ha='center' )\n",
    "\n",
    "plt.show()"
   ]
  },
  {
   "cell_type": "markdown",
   "metadata": {},
   "source": [
    "#### functions for checking the performance of model"
   ]
  },
  {
   "cell_type": "code",
   "execution_count": 9,
   "metadata": {},
   "outputs": [],
   "source": [
    "from sklearn.metrics import precision_score\n",
    "from sklearn.metrics import recall_score\n",
    "from sklearn.metrics import accuracy_score\n",
    "from sklearn.metrics import f1_score\n",
    "\n",
    "def print_metrics(labels, preds):\n",
    "    '''Print score of performance of model'''\n",
    "    print(\"Precision Score: {}\".format(precision_score(labels, preds)))\n",
    "    print(\"Recall Score: {}\".format(recall_score(labels, preds)))\n",
    "    print(\"Accuracy Score: {}\".format(accuracy_score(labels, preds)))\n",
    "    print(\"F1 Score: {}\".format(f1_score(labels, preds)))"
   ]
  },
  {
   "cell_type": "markdown",
   "metadata": {},
   "source": [
    "#### Data Cleaning & Setting"
   ]
  },
  {
   "cell_type": "code",
   "execution_count": 10,
   "metadata": {},
   "outputs": [],
   "source": [
    "# Cleaning Data for Classifier\n",
    "df['WIN'] = df['WIN'].map(lambda x: 0 if x == 'N' else 1)\n",
    "df['POST'] = df['POST'].map(lambda x: 0 if x == 'N' else 1)"
   ]
  },
  {
   "cell_type": "code",
   "execution_count": 11,
   "metadata": {},
   "outputs": [],
   "source": [
    "# Set target data frames\n",
    "win_y = df['WIN']\n",
    "post_y = df['POST']"
   ]
  },
  {
   "cell_type": "code",
   "execution_count": 12,
   "metadata": {},
   "outputs": [],
   "source": [
    "# Only pick the features with Ratio because it is middle of season\n",
    "ratio_X = df[['AVG', 'OPS', 'RISP', 'PH-BA', 'ERA', 'WHIP', 'FPCT', 'CS%', 'SB%']]"
   ]
  },
  {
   "cell_type": "code",
   "execution_count": 13,
   "metadata": {},
   "outputs": [],
   "source": [
    "# Split data set for train & test model\n",
    "X_train, X_test, y_train, y_test = train_test_split(ratio_X, win_y, test_size=.2)"
   ]
  },
  {
   "cell_type": "markdown",
   "metadata": {},
   "source": [
    "#### Training a Model with training data"
   ]
  },
  {
   "cell_type": "code",
   "execution_count": 14,
   "metadata": {},
   "outputs": [],
   "source": [
    "# Set pipeline with SS & Log_Regressor\n",
    "pipeline = Pipeline([\n",
    "    ('scaler', StandardScaler()),\n",
    "    ('classifier', LogisticRegression(solver='lbfgs'))\n",
    "])"
   ]
  },
  {
   "cell_type": "code",
   "execution_count": 15,
   "metadata": {},
   "outputs": [
    {
     "data": {
      "text/plain": [
       "Pipeline(memory=None,\n",
       "     steps=[('scaler', StandardScaler(copy=True, with_mean=True, with_std=True)), ('classifier', LogisticRegression(C=1.0, class_weight=None, dual=False, fit_intercept=True,\n",
       "          intercept_scaling=1, max_iter=100, multi_class='warn',\n",
       "          n_jobs=None, penalty='l2', random_state=None, solver='lbfgs',\n",
       "          tol=0.0001, verbose=0, warm_start=False))])"
      ]
     },
     "execution_count": 15,
     "metadata": {},
     "output_type": "execute_result"
    }
   ],
   "source": [
    "pipeline.fit(X_train, y_train)"
   ]
  },
  {
   "cell_type": "markdown",
   "metadata": {},
   "source": [
    "#### Check Performance of Model"
   ]
  },
  {
   "cell_type": "code",
   "execution_count": 16,
   "metadata": {},
   "outputs": [],
   "source": [
    "test_preds = pipeline.predict(X_test)"
   ]
  },
  {
   "cell_type": "code",
   "execution_count": 17,
   "metadata": {},
   "outputs": [
    {
     "name": "stdout",
     "output_type": "stream",
     "text": [
      "Precision Score: 0.5\n",
      "Recall Score: 1.0\n",
      "Accuracy Score: 0.9411764705882353\n",
      "F1 Score: 0.6666666666666666\n"
     ]
    }
   ],
   "source": [
    "print_metrics(y_test, test_preds)"
   ]
  },
  {
   "cell_type": "code",
   "execution_count": 18,
   "metadata": {},
   "outputs": [],
   "source": [
    "# current(1st of June) stat of KBO leagues \n",
    "stat_0601 = {\n",
    "    'SK': [.251, .702, .282, .289, 3.64, 1.34, .982, 22.2, 75.4],\n",
    "    'DOOSAN': [.273, .760, .271, .094, 3.13, 1.28, .985, 28.3, 69.0],\n",
    "    ' LG': [.259, .686, .247, .209, 3.25, 1.26, .984, 16.1, 61.3],\n",
    "    'NC': [.291, .796, .288, .129, 4.16, 1.38, .980, 45.5, 59.2],\n",
    "    'KIWOOM': [.285, .776, .308, .237, 4.25, 1.37, .983, 31.0, 70.2],\n",
    "    'HANWHA':[.253, .701, .259, .119, 4.67, 1.52, .982, 33.3, 74.6],\n",
    "    'KT': [.270, .715, .267, .200, 4.86, 1.50, .977, 37.9, 69.8],\n",
    "    'KIA': [.262, .713, .252, .154, 5.06, 1.56, .985, 31.7, 67.3],\n",
    "    'SAMSUNG': [.266, .739, .256, .292, 4.39, 1.39, .978, 31.5, 75.4],\n",
    "    'LOTTE': [.269, .718, .271, .224, 5.87, 1.70, .978, 32.2, 70.0],\n",
    "}"
   ]
  },
  {
   "cell_type": "code",
   "execution_count": 19,
   "metadata": {},
   "outputs": [
    {
     "name": "stdout",
     "output_type": "stream",
     "text": [
      "SK :  3.721%\n",
      "DOOSAN :  86.11%\n",
      " LG :  1.257%\n",
      "NC :  15.48%\n",
      "KIWOOM :  41.83%\n",
      "HANWHA :  0.6076%\n",
      "KT :  0.05308%\n",
      "KIA :  0.1675%\n",
      "SAMSUNG :  0.1357%\n",
      "LOTTE :  0.002882%\n"
     ]
    }
   ],
   "source": [
    "for team, value in stat_0601.items():\n",
    "    print(f'{team} :  {pipeline.predict_proba([value])[0][1]*100:.4}%')"
   ]
  },
  {
   "cell_type": "markdown",
   "metadata": {},
   "source": [
    "#### Training a model with whole data\n",
    "\n",
    "Because of small amount of data, let's try training a model with whole data"
   ]
  },
  {
   "cell_type": "code",
   "execution_count": 20,
   "metadata": {},
   "outputs": [
    {
     "data": {
      "text/plain": [
       "Pipeline(memory=None,\n",
       "     steps=[('scaler', StandardScaler(copy=True, with_mean=True, with_std=True)), ('classifier', LogisticRegression(C=1.0, class_weight=None, dual=False, fit_intercept=True,\n",
       "          intercept_scaling=1, max_iter=100, multi_class='warn',\n",
       "          n_jobs=None, penalty='l2', random_state=None, solver='lbfgs',\n",
       "          tol=0.0001, verbose=0, warm_start=False))])"
      ]
     },
     "execution_count": 20,
     "metadata": {},
     "output_type": "execute_result"
    }
   ],
   "source": [
    "# Train model with whole dataset\n",
    "pipeline.fit(ratio_X, win_y)"
   ]
  },
  {
   "cell_type": "code",
   "execution_count": 21,
   "metadata": {},
   "outputs": [],
   "source": [
    "test_preds = pipeline.predict(X_test)"
   ]
  },
  {
   "cell_type": "code",
   "execution_count": 22,
   "metadata": {},
   "outputs": [
    {
     "name": "stdout",
     "output_type": "stream",
     "text": [
      "Precision Score: 1.0\n",
      "Recall Score: 1.0\n",
      "Accuracy Score: 1.0\n",
      "F1 Score: 1.0\n"
     ]
    }
   ],
   "source": [
    "print_metrics(y_test, test_preds)"
   ]
  },
  {
   "cell_type": "code",
   "execution_count": 23,
   "metadata": {},
   "outputs": [
    {
     "name": "stdout",
     "output_type": "stream",
     "text": [
      "SK :  0.858%\n",
      "DOOSAN :  89.14%\n",
      " LG :  0.7194%\n",
      "NC :  38.34%\n",
      "KIWOOM :  30.51%\n",
      "HANWHA :  0.4719%\n",
      "KT :  0.04692%\n",
      "KIA :  0.1473%\n",
      "SAMSUNG :  0.04548%\n",
      "LOTTE :  0.001638%\n"
     ]
    }
   ],
   "source": [
    "predicts = {}\n",
    "for team, value in stat_0601.items():\n",
    "    proba = pipeline.predict_proba([value])[0][1]*100\n",
    "    predicts[team] = proba\n",
    "    print(f'{team} :  {proba:.4}%')"
   ]
  },
  {
   "cell_type": "code",
   "execution_count": 24,
   "metadata": {},
   "outputs": [
    {
     "data": {
      "image/png": "[encoded data removed]",
      "text/plain": [
       "<Figure size 720x288 with 1 Axes>"
      ]
     },
     "metadata": {
      "needs_background": "light"
     },
     "output_type": "display_data"
    }
   ],
   "source": [
    "# Draw a chart\n",
    "fig, ax = plt.subplots(figsize=(10, 4))\n",
    "ax.bar(predicts.keys(), predicts.values(), color='#007acc', alpha=.3)\n",
    "ax.grid(False)\n",
    "ax.set_yticks([])\n",
    "\n",
    "fig.suptitle('Probabilty to WIn a league', fontsize=15)\n",
    "\n",
    "for rect in ax.patches:\n",
    "    y_value = rect.get_height()\n",
    "    x_value = rect.get_x() + rect.get_width() / 2\n",
    "\n",
    "    label = '{:.2f}%'.format(y_value)\n",
    "    plt.annotate(label, (x_value, y_value), ha='center' )\n",
    "\n",
    "plt.show()"
   ]
  },
  {
   "cell_type": "markdown",
   "metadata": {},
   "source": [
    "### Predict a Probability for Postseason "
   ]
  },
  {
   "cell_type": "code",
   "execution_count": 25,
   "metadata": {},
   "outputs": [],
   "source": [
    "X_train, X_test, y_train, y_test = train_test_split(ratio_X, post_y, test_size=.2)"
   ]
  },
  {
   "cell_type": "code",
   "execution_count": 26,
   "metadata": {},
   "outputs": [],
   "source": [
    "# Set pipeline with SS & Log_Regressor\n",
    "pipeline_post = Pipeline([\n",
    "    ('scaler', StandardScaler()),\n",
    "    ('classifier', LogisticRegression(solver='lbfgs'))\n",
    "])"
   ]
  },
  {
   "cell_type": "code",
   "execution_count": 27,
   "metadata": {},
   "outputs": [
    {
     "data": {
      "text/plain": [
       "Pipeline(memory=None,\n",
       "     steps=[('scaler', StandardScaler(copy=True, with_mean=True, with_std=True)), ('classifier', LogisticRegression(C=1.0, class_weight=None, dual=False, fit_intercept=True,\n",
       "          intercept_scaling=1, max_iter=100, multi_class='warn',\n",
       "          n_jobs=None, penalty='l2', random_state=None, solver='lbfgs',\n",
       "          tol=0.0001, verbose=0, warm_start=False))])"
      ]
     },
     "execution_count": 27,
     "metadata": {},
     "output_type": "execute_result"
    }
   ],
   "source": [
    "pipeline_post.fit(X_train, y_train)"
   ]
  },
  {
   "cell_type": "code",
   "execution_count": 28,
   "metadata": {},
   "outputs": [],
   "source": [
    "test_preds = pipeline_post.predict(X_test)"
   ]
  },
  {
   "cell_type": "code",
   "execution_count": 29,
   "metadata": {},
   "outputs": [
    {
     "name": "stdout",
     "output_type": "stream",
     "text": [
      "Precision Score: 0.8888888888888888\n",
      "Recall Score: 0.8\n",
      "Accuracy Score: 0.8235294117647058\n",
      "F1 Score: 0.8421052631578948\n"
     ]
    }
   ],
   "source": [
    "print_metrics(y_test, test_preds)"
   ]
  },
  {
   "cell_type": "code",
   "execution_count": 30,
   "metadata": {},
   "outputs": [
    {
     "name": "stdout",
     "output_type": "stream",
     "text": [
      "SK :  84.38%\n",
      "DOOSAN :  97.99%\n",
      " LG :  84.94%\n",
      "NC :  64.38%\n",
      "KIWOOM :  96.65%\n",
      "HANWHA :  0.889%\n",
      "KT :  0.711%\n",
      "KIA :  1.255%\n",
      "SAMSUNG :  17.86%\n",
      "LOTTE :  0.0475%\n"
     ]
    }
   ],
   "source": [
    "predicts = {}\n",
    "for team, value in stat_0601.items():\n",
    "    proba = pipeline_post.predict_proba([value])[0][1]*100\n",
    "    predicts[team] = proba\n",
    "    print(f'{team} :  {proba:.4}%')"
   ]
  },
  {
   "cell_type": "code",
   "execution_count": 31,
   "metadata": {},
   "outputs": [
    {
     "data": {
      "image/png": "[encoded data removed]",
      "text/plain": [
       "<Figure size 720x288 with 1 Axes>"
      ]
     },
     "metadata": {
      "needs_background": "light"
     },
     "output_type": "display_data"
    }
   ],
   "source": [
    "# Draw a chart\n",
    "fig, ax = plt.subplots(figsize=(10, 4))\n",
    "ax.bar(predicts.keys(), predicts.values(), color='#007acc', alpha=.3)\n",
    "ax.grid(False)\n",
    "ax.set_yticks([])\n",
    "\n",
    "fig.suptitle('Probabilty to quailify for playoffs', fontsize=15)\n",
    "\n",
    "for rect in ax.patches:\n",
    "    y_value = rect.get_height()\n",
    "    x_value = rect.get_x() + rect.get_width() / 2\n",
    "\n",
    "    label = '{:.2f}%'.format(y_value)\n",
    "    plt.annotate(label, (x_value, y_value), ha='center' )\n",
    "\n",
    "plt.show()"
   ]
  },
  {
   "cell_type": "code",
   "execution_count": 32,
   "metadata": {},
   "outputs": [
    {
     "data": {
      "image/png": "[encoded data removed]",
      "text/plain": [
       "<Figure size 720x288 with 1 Axes>"
      ]
     },
     "metadata": {
      "needs_background": "light"
     },
     "output_type": "display_data"
    }
   ],
   "source": [
    "# Draw a chart in Korean\n",
    "teams = ['SK', '두산', 'LG', 'NC', '키움', '한화', 'KT', '기아', '삼성', '롯데']\n",
    "\n",
    "title_font = fm.FontProperties(fname='/Library/Fonts/NanumGothicBold.ttf', size=18)\n",
    "label_font = fm.FontProperties(fname='/Library/Fonts/NanumGothic.ttf', size=12)\n",
    "\n",
    "fig, ax = plt.subplots(figsize=(10, 4))\n",
    "ax.bar(teams, predicts.values(), color='#007acc', alpha=.4)\n",
    "ax.set_xticklabels(teams, fontproperties=label_font)\n",
    "ax.grid(False)\n",
    "ax.set_yticks([])\n",
    "\n",
    "fig.suptitle('포스트 시즌 진출 확률 (6/1 현재)', fontproperties=title_font)\n",
    "\n",
    "for rect in ax.patches:\n",
    "    y_value = rect.get_height()\n",
    "    x_value = rect.get_x() + rect.get_width() / 2\n",
    "\n",
    "    label = '{:.2f}%'.format(y_value)\n",
    "    plt.annotate(label, (x_value, y_value), ha='center' )\n",
    "\n",
    "\n",
    "plt.savefig('post_korean.png')\n",
    "plt.show()"
   ]
  },
  {
   "cell_type": "markdown",
   "metadata": {},
   "source": [
    "### Another prediction at 6/30"
   ]
  },
  {
   "cell_type": "code",
   "execution_count": 33,
   "metadata": {},
   "outputs": [],
   "source": [
    "# current(30th of June) stat of KBO leagues \n",
    "#['AVG', 'OPS', 'RISP', 'PH-BA', 'ERA', 'WHIP', 'FPCT', 'CS%', 'SB%']\n",
    "\n",
    "stat_0630 = {\n",
    "    'SK': [.267, .734, .285, .262, 3.52, 1.31, .984, 26.4, 69.0],\n",
    "    'DOOSAN': [.273, .747, .269, .133, 3.46, 1.33, .985, 23.2, 72.6],\n",
    "    'KIWOOM': [.281, .768, .292, .240, 4.05, 1.35, .981, 34.9, 75.9],\n",
    "    ' LG': [.262, .695, .250, .229, 3.50, 1.34, .982, 18.2, 68.1],\n",
    "    'NC': [.281, .766, .280, .153, 4.45, 1.43, .980, 42.4, 59.1],\n",
    "    'KT': [.274, .720, .270, .220, 4.72, 1.46, .979, 38.8, 67.1],\n",
    "    'SAMSUNG': [.269, .752, .265, .234, 4.50, 1.42, .980, 29.7, 75.0],\n",
    "    'KIA': [.265, .717, .254, .186, 4.99, 1.54, .983, 29.3, 67.5],\n",
    "    'HANWHA':[.252, .695, .255, .130, 4.73, 1.52, .980, 33.3, 73.2],\n",
    "    'LOTTE': [.262, .702, .266, .232, 5.10, 1.61, .979, 33.7, 67.7],\n",
    "}"
   ]
  },
  {
   "cell_type": "code",
   "execution_count": 34,
   "metadata": {},
   "outputs": [
    {
     "name": "stdout",
     "output_type": "stream",
     "text": [
      "SK :  10.3%\n",
      "DOOSAN :  53.64%\n",
      "KIWOOM :  18.41%\n",
      " LG :  0.3017%\n",
      "NC :  3.668%\n",
      "KT :  0.1391%\n",
      "SAMSUNG :  0.3437%\n",
      "KIA :  0.06064%\n",
      "HANWHA :  0.1044%\n",
      "LOTTE :  0.006309%\n"
     ]
    }
   ],
   "source": [
    "new_predicts_to_win = {}\n",
    "for team, value in stat_0630.items():\n",
    "    proba = pipeline.predict_proba([value])[0][1]*100\n",
    "    new_predicts_to_win[team] = proba\n",
    "    print(f'{team} :  {proba:.4}%')"
   ]
  },
  {
   "cell_type": "code",
   "execution_count": 35,
   "metadata": {},
   "outputs": [
    {
     "name": "stdout",
     "output_type": "stream",
     "text": [
      "SK :  97.51%\n",
      "DOOSAN :  95.74%\n",
      "KIWOOM :  91.73%\n",
      " LG :  66.04%\n",
      "NC :  19.25%\n",
      "KT :  3.622%\n",
      "SAMSUNG :  26.09%\n",
      "KIA :  1.793%\n",
      "HANWHA :  0.3211%\n",
      "LOTTE :  0.2855%\n"
     ]
    }
   ],
   "source": [
    "new_predicts = {}\n",
    "for team, value in stat_0630.items():\n",
    "    proba = pipeline_post.predict_proba([value])[0][1]*100\n",
    "    new_predicts[team] = proba\n",
    "    print(f'{team} :  {proba:.4}%')"
   ]
  },
  {
   "cell_type": "code",
   "execution_count": 36,
   "metadata": {},
   "outputs": [
    {
     "data": {
      "image/png": "[encoded data removed]",
      "text/plain": [
       "<Figure size 720x288 with 1 Axes>"
      ]
     },
     "metadata": {
      "needs_background": "light"
     },
     "output_type": "display_data"
    }
   ],
   "source": [
    "# Draw a chart in Korean\n",
    "teams = [team for team, value in stat_0630.items()]\n",
    "\n",
    "teams[1] = '두산'\n",
    "teams[2] = '키움'\n",
    "teams[6] = '삼성'\n",
    "teams[8] = '한화'\n",
    "title_font = fm.FontProperties(fname='/Library/Fonts/NanumGothicBold.ttf', size=18)\n",
    "label_font = fm.FontProperties(fname='/Library/Fonts/NanumGothic.ttf', size=12)\n",
    "\n",
    "fig, ax = plt.subplots(figsize=(10, 4))\n",
    "ax.bar(teams, new_predicts.values(), color='#007acc', alpha=.4)\n",
    "\n",
    "ax.set_xticklabels(teams, fontproperties=label_font)\n",
    "ax.grid(False)\n",
    "ax.set_yticks([])\n",
    "\n",
    "fig.suptitle('포스트 시즌 진출 확률 (6/30 현재)', fontproperties=title_font)\n",
    "\n",
    "for rect in ax.patches:\n",
    "    y_value = rect.get_height()\n",
    "    x_value = rect.get_x() + rect.get_width() / 2\n",
    "\n",
    "    label = '{:.2f}%'.format(y_value)\n",
    "    plt.annotate(label, (x_value, y_value), ha='center' )\n",
    "\n",
    "plt.savefig('post_korean_0630.png')\n",
    "plt.show()"
   ]
  },
  {
   "cell_type": "markdown",
   "metadata": {},
   "source": [
    "### Conclusion\n",
    "\n",
    "Even though SK is leading the league, Doosan, Kiwoom, NC are looking powerful teams of stats.  \n",
    "Let's see what is happening on this September!!!"
   ]
  },
  {
   "cell_type": "code",
   "execution_count": null,
   "metadata": {},
   "outputs": [],
   "source": []
  }
 ],
 "metadata": {
  "kernelspec": {
   "display_name": "Python 3",
   "language": "python",
   "name": "python3"
  },
  "language_info": {
   "codemirror_mode": {
    "name": "ipython",
    "version": 3
   },
   "file_extension": ".py",
   "mimetype": "text/x-python",
   "name": "python",
   "nbconvert_exporter": "python",
   "pygments_lexer": "ipython3",
   "version": "3.7.3"
  }
 },
 "nbformat": 4,
 "nbformat_minor": 2
}
