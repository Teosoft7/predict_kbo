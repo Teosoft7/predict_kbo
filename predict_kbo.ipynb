{
 "cells": [
  {
   "cell_type": "markdown",
   "metadata": {},
   "source": [
    "# Predict KBO\n",
    "\n",
    "## KBO 정규 리그 우승팀 및 포스트 시즌 진출 팀 예측\n",
    "\n",
    "최근 10년간의 정규리그 성적을 바탕으로 2019 시즌 우승팀과 플레이오프 진출팀을 예측하는\n",
    "\n",
    "머신러닝 모델을 만들어 보자.\n"
   ]
  },
  {
   "cell_type": "markdown",
   "metadata": {},
   "source": [
    "### Import necessary libraries"
   ]
  },
  {
   "cell_type": "code",
   "execution_count": 1,
   "metadata": {},
   "outputs": [],
   "source": [
    "import pandas as pd\n",
    "import numpy as np\n",
    "\n",
    "import matplotlib as mpl\n",
    "from matplotlib import pyplot as plt\n",
    "import matplotlib.font_manager as fm\n",
    "import seaborn as sns\n",
    "\n",
    "%matplotlib inline\n",
    "mpl.rcParams['axes.unicode_minus'] = False\n",
    "plt.style.use('seaborn-colorblind')\n",
    "\n",
    "from sklearn.pipeline import Pipeline\n",
    "from sklearn.model_selection import train_test_split\n",
    "from sklearn.preprocessing import StandardScaler\n",
    "from sklearn.linear_model import LogisticRegression\n",
    "from sklearn.metrics import classification_report"
   ]
  },
  {
   "cell_type": "markdown",
   "metadata": {},
   "source": [
    "### Data Set\n",
    "\n",
    "분석 자료는 한국야구위원회 공식 홈페이지 기록실에서 추출한 팀기록을 사용하였다.  \n",
    "\n",
    "링크 (https://www.koreabaseball.com/Record/Player/HitterBasic/Basic1.aspx)\n"
   ]
  },
  {
   "cell_type": "code",
   "execution_count": 2,
   "metadata": {},
   "outputs": [],
   "source": [
    "# Read Data \n",
    "df = pd.read_csv('./data/kbo_data.csv')"
   ]
  },
  {
   "cell_type": "code",
   "execution_count": 3,
   "metadata": {},
   "outputs": [
    {
     "data": {
      "text/html": [
       "<div>\n",
       "<style scoped>\n",
       "    .dataframe tbody tr th:only-of-type {\n",
       "        vertical-align: middle;\n",
       "    }\n",
       "\n",
       "    .dataframe tbody tr th {\n",
       "        vertical-align: top;\n",
       "    }\n",
       "\n",
       "    .dataframe thead th {\n",
       "        text-align: right;\n",
       "    }\n",
       "</style>\n",
       "<table border=\"1\" class=\"dataframe\">\n",
       "  <thead>\n",
       "    <tr style=\"text-align: right;\">\n",
       "      <th></th>\n",
       "      <th>WIN</th>\n",
       "      <th>POST</th>\n",
       "      <th>YEAR</th>\n",
       "      <th>TEAM</th>\n",
       "      <th>AVG</th>\n",
       "      <th>G</th>\n",
       "      <th>PA</th>\n",
       "      <th>AB</th>\n",
       "      <th>R</th>\n",
       "      <th>H</th>\n",
       "      <th>...</th>\n",
       "      <th>PB</th>\n",
       "      <th>SB_A</th>\n",
       "      <th>CS_A</th>\n",
       "      <th>CS%</th>\n",
       "      <th>SBA</th>\n",
       "      <th>SB</th>\n",
       "      <th>CS</th>\n",
       "      <th>SB%</th>\n",
       "      <th>OOB</th>\n",
       "      <th>PKO.1</th>\n",
       "    </tr>\n",
       "  </thead>\n",
       "  <tbody>\n",
       "    <tr>\n",
       "      <th>0</th>\n",
       "      <td>N</td>\n",
       "      <td>N</td>\n",
       "      <td>2010</td>\n",
       "      <td>넥센</td>\n",
       "      <td>0.262</td>\n",
       "      <td>133</td>\n",
       "      <td>5139</td>\n",
       "      <td>4452</td>\n",
       "      <td>570</td>\n",
       "      <td>1165</td>\n",
       "      <td>...</td>\n",
       "      <td>9</td>\n",
       "      <td>160</td>\n",
       "      <td>68</td>\n",
       "      <td>29.8</td>\n",
       "      <td>191</td>\n",
       "      <td>135</td>\n",
       "      <td>56</td>\n",
       "      <td>70.7</td>\n",
       "      <td>56</td>\n",
       "      <td>5</td>\n",
       "    </tr>\n",
       "    <tr>\n",
       "      <th>1</th>\n",
       "      <td>N</td>\n",
       "      <td>Y</td>\n",
       "      <td>2010</td>\n",
       "      <td>두산</td>\n",
       "      <td>0.281</td>\n",
       "      <td>133</td>\n",
       "      <td>5252</td>\n",
       "      <td>4538</td>\n",
       "      <td>731</td>\n",
       "      <td>1276</td>\n",
       "      <td>...</td>\n",
       "      <td>8</td>\n",
       "      <td>119</td>\n",
       "      <td>44</td>\n",
       "      <td>27.0</td>\n",
       "      <td>189</td>\n",
       "      <td>128</td>\n",
       "      <td>61</td>\n",
       "      <td>67.7</td>\n",
       "      <td>56</td>\n",
       "      <td>12</td>\n",
       "    </tr>\n",
       "    <tr>\n",
       "      <th>2</th>\n",
       "      <td>N</td>\n",
       "      <td>Y</td>\n",
       "      <td>2010</td>\n",
       "      <td>롯데</td>\n",
       "      <td>0.288</td>\n",
       "      <td>133</td>\n",
       "      <td>5261</td>\n",
       "      <td>4673</td>\n",
       "      <td>773</td>\n",
       "      <td>1345</td>\n",
       "      <td>...</td>\n",
       "      <td>6</td>\n",
       "      <td>131</td>\n",
       "      <td>62</td>\n",
       "      <td>32.1</td>\n",
       "      <td>175</td>\n",
       "      <td>124</td>\n",
       "      <td>51</td>\n",
       "      <td>70.9</td>\n",
       "      <td>62</td>\n",
       "      <td>7</td>\n",
       "    </tr>\n",
       "    <tr>\n",
       "      <th>3</th>\n",
       "      <td>N</td>\n",
       "      <td>Y</td>\n",
       "      <td>2010</td>\n",
       "      <td>삼성</td>\n",
       "      <td>0.272</td>\n",
       "      <td>133</td>\n",
       "      <td>5287</td>\n",
       "      <td>4436</td>\n",
       "      <td>681</td>\n",
       "      <td>1207</td>\n",
       "      <td>...</td>\n",
       "      <td>6</td>\n",
       "      <td>134</td>\n",
       "      <td>65</td>\n",
       "      <td>32.7</td>\n",
       "      <td>213</td>\n",
       "      <td>158</td>\n",
       "      <td>55</td>\n",
       "      <td>74.2</td>\n",
       "      <td>54</td>\n",
       "      <td>8</td>\n",
       "    </tr>\n",
       "    <tr>\n",
       "      <th>4</th>\n",
       "      <td>N</td>\n",
       "      <td>N</td>\n",
       "      <td>2010</td>\n",
       "      <td>한화</td>\n",
       "      <td>0.244</td>\n",
       "      <td>133</td>\n",
       "      <td>5009</td>\n",
       "      <td>4321</td>\n",
       "      <td>543</td>\n",
       "      <td>1053</td>\n",
       "      <td>...</td>\n",
       "      <td>7</td>\n",
       "      <td>151</td>\n",
       "      <td>58</td>\n",
       "      <td>27.8</td>\n",
       "      <td>191</td>\n",
       "      <td>121</td>\n",
       "      <td>70</td>\n",
       "      <td>63.4</td>\n",
       "      <td>56</td>\n",
       "      <td>11</td>\n",
       "    </tr>\n",
       "  </tbody>\n",
       "</table>\n",
       "<p>5 rows × 73 columns</p>\n",
       "</div>"
      ],
      "text/plain": [
       "  WIN POST  YEAR TEAM    AVG    G    PA    AB    R     H  ...  PB  SB_A  CS_A  \\\n",
       "0   N    N  2010   넥센  0.262  133  5139  4452  570  1165  ...   9   160    68   \n",
       "1   N    Y  2010   두산  0.281  133  5252  4538  731  1276  ...   8   119    44   \n",
       "2   N    Y  2010   롯데  0.288  133  5261  4673  773  1345  ...   6   131    62   \n",
       "3   N    Y  2010   삼성  0.272  133  5287  4436  681  1207  ...   6   134    65   \n",
       "4   N    N  2010   한화  0.244  133  5009  4321  543  1053  ...   7   151    58   \n",
       "\n",
       "    CS%  SBA   SB  CS   SB%  OOB  PKO.1  \n",
       "0  29.8  191  135  56  70.7   56      5  \n",
       "1  27.0  189  128  61  67.7   56     12  \n",
       "2  32.1  175  124  51  70.9   62      7  \n",
       "3  32.7  213  158  55  74.2   54      8  \n",
       "4  27.8  191  121  70  63.4   56     11  \n",
       "\n",
       "[5 rows x 73 columns]"
      ]
     },
     "execution_count": 3,
     "metadata": {},
     "output_type": "execute_result"
    }
   ],
   "source": [
    "df.head(5)"
   ]
  },
  {
   "cell_type": "markdown",
   "metadata": {},
   "source": [
    "### Features (예측 변수)\n",
    "\n",
    "우선, 2019년 시즌은 현재 진행 중이므로, 안타수, 홈런수 등의 총 합 데이터는 지양하고,  \n",
    "비율로 구성된 값들만을 예측 변수로 사용해 초기 모델을 만들어 보자.\n",
    "\n",
    "- AVG : batting AVeraGe (타율)\n",
    "- OPS : On base Plus Slugging (출루율 + 장타율)\n",
    "- RISP : batting AVG at Runner In Scoring Position (득점권타율)\n",
    "- PH-BA : Pinch Hitter - Batting Average (대타 타율)\n",
    "- ERA : Earned Runs Average (평균자책점)\n",
    "- WHIP : Walks Plus Hits Divided by Innings Pitched (이닝당출루허용)\n",
    "- FPCT : Fielding PerCenTage (수비율)"
   ]
  },
  {
   "cell_type": "code",
   "execution_count": 4,
   "metadata": {},
   "outputs": [],
   "source": [
    "# features : AVG, OPS, RISP(Runner In Scoring Position) AVG, \n",
    "# PH-BA(Pinch Hitter - Batting Average), ERA, WHIP, FPCT(Fielding PerCenTage)\n",
    "features = ['AVG', 'OPS', 'RISP', 'PH-BA', 'ERA', 'WHIP', 'FPCT']"
   ]
  },
  {
   "cell_type": "code",
   "execution_count": 5,
   "metadata": {},
   "outputs": [
    {
     "data": {
      "text/plain": [
       "['AVG', 'OPS', 'RISP', 'PH-BA', 'ERA', 'WHIP', 'FPCT']"
      ]
     },
     "execution_count": 5,
     "metadata": {},
     "output_type": "execute_result"
    }
   ],
   "source": [
    "list(df.loc[df['WIN'] == 1, features])"
   ]
  },
  {
   "cell_type": "code",
   "execution_count": 6,
   "metadata": {},
   "outputs": [],
   "source": [
    "# Check the stats of Winners\n",
    "win = df.loc[df['WIN'] == 'Y', features].mean()"
   ]
  },
  {
   "cell_type": "code",
   "execution_count": 7,
   "metadata": {},
   "outputs": [],
   "source": [
    "post = df.loc[df['POST'] == 'Y', features].mean()"
   ]
  },
  {
   "cell_type": "code",
   "execution_count": 8,
   "metadata": {},
   "outputs": [],
   "source": [
    "all = df.loc[:, features].mean()"
   ]
  },
  {
   "cell_type": "code",
   "execution_count": 10,
   "metadata": {},
   "outputs": [],
   "source": [
    "feature_df = pd.DataFrame(zip(features,win,post,all), columns=['CATE','WIN', 'POST', 'ALL'])"
   ]
  },
  {
   "cell_type": "code",
   "execution_count": 11,
   "metadata": {},
   "outputs": [
    {
     "data": {
      "text/html": [
       "<div>\n",
       "<style scoped>\n",
       "    .dataframe tbody tr th:only-of-type {\n",
       "        vertical-align: middle;\n",
       "    }\n",
       "\n",
       "    .dataframe tbody tr th {\n",
       "        vertical-align: top;\n",
       "    }\n",
       "\n",
       "    .dataframe thead th {\n",
       "        text-align: right;\n",
       "    }\n",
       "</style>\n",
       "<table border=\"1\" class=\"dataframe\">\n",
       "  <thead>\n",
       "    <tr style=\"text-align: right;\">\n",
       "      <th></th>\n",
       "      <th>CATE</th>\n",
       "      <th>WIN</th>\n",
       "      <th>POST</th>\n",
       "      <th>ALL</th>\n",
       "    </tr>\n",
       "  </thead>\n",
       "  <tbody>\n",
       "    <tr>\n",
       "      <th>0</th>\n",
       "      <td>AVG</td>\n",
       "      <td>0.288889</td>\n",
       "      <td>0.283375</td>\n",
       "      <td>0.277488</td>\n",
       "    </tr>\n",
       "    <tr>\n",
       "      <th>1</th>\n",
       "      <td>OPS</td>\n",
       "      <td>0.805778</td>\n",
       "      <td>0.791275</td>\n",
       "      <td>0.770037</td>\n",
       "    </tr>\n",
       "    <tr>\n",
       "      <th>2</th>\n",
       "      <td>RISP</td>\n",
       "      <td>0.300111</td>\n",
       "      <td>0.289775</td>\n",
       "      <td>0.281634</td>\n",
       "    </tr>\n",
       "    <tr>\n",
       "      <th>3</th>\n",
       "      <td>PH-BA</td>\n",
       "      <td>0.225222</td>\n",
       "      <td>0.232250</td>\n",
       "      <td>0.228427</td>\n",
       "    </tr>\n",
       "    <tr>\n",
       "      <th>4</th>\n",
       "      <td>ERA</td>\n",
       "      <td>4.206667</td>\n",
       "      <td>4.441000</td>\n",
       "      <td>4.732683</td>\n",
       "    </tr>\n",
       "    <tr>\n",
       "      <th>5</th>\n",
       "      <td>WHIP</td>\n",
       "      <td>1.384444</td>\n",
       "      <td>1.423000</td>\n",
       "      <td>1.472683</td>\n",
       "    </tr>\n",
       "    <tr>\n",
       "      <th>6</th>\n",
       "      <td>FPCT</td>\n",
       "      <td>0.984444</td>\n",
       "      <td>0.982925</td>\n",
       "      <td>0.982195</td>\n",
       "    </tr>\n",
       "  </tbody>\n",
       "</table>\n",
       "</div>"
      ],
      "text/plain": [
       "    CATE       WIN      POST       ALL\n",
       "0    AVG  0.288889  0.283375  0.277488\n",
       "1    OPS  0.805778  0.791275  0.770037\n",
       "2   RISP  0.300111  0.289775  0.281634\n",
       "3  PH-BA  0.225222  0.232250  0.228427\n",
       "4    ERA  4.206667  4.441000  4.732683\n",
       "5   WHIP  1.384444  1.423000  1.472683\n",
       "6   FPCT  0.984444  0.982925  0.982195"
      ]
     },
     "execution_count": 11,
     "metadata": {},
     "output_type": "execute_result"
    }
   ],
   "source": [
    "feature_df"
   ]
  },
  {
   "cell_type": "code",
   "execution_count": 12,
   "metadata": {},
   "outputs": [],
   "source": [
    "# Korean Font for Chart Title\n",
    "title_font = fm.FontProperties(fname='/Library/Fonts/NanumGothicBold.ttf', size=20)"
   ]
  },
  {
   "cell_type": "code",
   "execution_count": 13,
   "metadata": {},
   "outputs": [
    {
     "data": {
      "image/png": "[encoded data removed]",
      "text/plain": [
       "<Figure size 1008x432 with 1 Axes>"
      ]
     },
     "metadata": {
      "needs_background": "light"
     },
     "output_type": "display_data"
    }
   ],
   "source": [
    "fig, ax = plt.subplots(figsize=(14, 6))\n",
    "graph_df = feature_df.melt(id_vars='CATE').rename(columns=str.title)\n",
    "sns.barplot(x='Cate', y='Value', hue='Variable', data=graph_df, ax=ax)\n",
    "sns.despine(fig)\n",
    "\n",
    "ax.grid(False)\n",
    "ax.set_yticks([])\n",
    "\n",
    "fig.suptitle('최근 10년간 평균 기록 비교', fontproperties=title_font)\n",
    "\n",
    "for rect in ax.patches:\n",
    "    y_value = rect.get_height()\n",
    "    x_value = rect.get_x() + rect.get_width() / 2\n",
    "\n",
    "    label = '{:.3f}'.format(y_value)\n",
    "    plt.annotate(label, (x_value, y_value), ha='center', fontsize=10)\n",
    "    \n",
    "plt.show()"
   ]
  },
  {
   "cell_type": "markdown",
   "metadata": {},
   "source": [
    "우승, 포스트시즌 진출 팀의 각 기록이 전체팀과 비교해서 약간의 차이를 보이므로,   \n",
    "이 변수들을 활용해서 우승 확률과 포스트 시즌 진출 확률을 예측 가능할 것으로 판단됨"
   ]
  },
  {
   "cell_type": "markdown",
   "metadata": {},
   "source": [
    "#### 데이터 정리와 타겟 변수 설정"
   ]
  },
  {
   "cell_type": "code",
   "execution_count": 14,
   "metadata": {},
   "outputs": [],
   "source": [
    "# Cleaning Data for Classifier\n",
    "df['WIN'] = df['WIN'].map(lambda x: 0 if x == 'N' else 1)\n",
    "df['POST'] = df['POST'].map(lambda x: 0 if x == 'N' else 1)"
   ]
  },
  {
   "cell_type": "code",
   "execution_count": 15,
   "metadata": {},
   "outputs": [],
   "source": [
    "# Set target data frames\n",
    "win_y = df['WIN']\n",
    "post_y = df['POST']"
   ]
  },
  {
   "cell_type": "code",
   "execution_count": 16,
   "metadata": {},
   "outputs": [],
   "source": [
    "# Only pick the features with Ratio because it is middle of season\n",
    "ratio_X = df[features]"
   ]
  },
  {
   "cell_type": "code",
   "execution_count": 17,
   "metadata": {},
   "outputs": [],
   "source": [
    "# Split data set for train & test model\n",
    "X_train, X_test, y_train, y_test = train_test_split(ratio_X, win_y, test_size=.2)"
   ]
  },
  {
   "cell_type": "markdown",
   "metadata": {},
   "source": [
    "#### 로지스틱 회귀분석 모형을 사용해 초기 예측 모델 생성"
   ]
  },
  {
   "cell_type": "code",
   "execution_count": 18,
   "metadata": {},
   "outputs": [],
   "source": [
    "# Set pipeline with SS & Log_Regressor\n",
    "pipeline = Pipeline([\n",
    "    ('scaler', StandardScaler()),\n",
    "    ('classifier', LogisticRegression(solver='lbfgs',\n",
    "                                      random_state=27))\n",
    "])"
   ]
  },
  {
   "cell_type": "code",
   "execution_count": 19,
   "metadata": {},
   "outputs": [
    {
     "data": {
      "text/plain": [
       "Pipeline(memory=None,\n",
       "     steps=[('scaler', StandardScaler(copy=True, with_mean=True, with_std=True)), ('classifier', LogisticRegression(C=1.0, class_weight=None, dual=False, fit_intercept=True,\n",
       "          intercept_scaling=1, max_iter=100, multi_class='warn',\n",
       "          n_jobs=None, penalty='l2', random_state=27, solver='lbfgs',\n",
       "          tol=0.0001, verbose=0, warm_start=False))])"
      ]
     },
     "execution_count": 19,
     "metadata": {},
     "output_type": "execute_result"
    }
   ],
   "source": [
    "pipeline.fit(X_train, y_train)"
   ]
  },
  {
   "cell_type": "markdown",
   "metadata": {},
   "source": [
    "#### Check Performance of Model"
   ]
  },
  {
   "cell_type": "code",
   "execution_count": 20,
   "metadata": {},
   "outputs": [],
   "source": [
    "test_preds = pipeline.predict(X_test)"
   ]
  },
  {
   "cell_type": "code",
   "execution_count": 21,
   "metadata": {},
   "outputs": [
    {
     "name": "stdout",
     "output_type": "stream",
     "text": [
      "              precision    recall  f1-score   support\n",
      "\n",
      "           0       0.88      1.00      0.93        14\n",
      "           1       1.00      0.33      0.50         3\n",
      "\n",
      "   micro avg       0.88      0.88      0.88        17\n",
      "   macro avg       0.94      0.67      0.72        17\n",
      "weighted avg       0.90      0.88      0.86        17\n",
      "\n"
     ]
    }
   ],
   "source": [
    "print(classification_report(y_test, test_preds))"
   ]
  },
  {
   "cell_type": "code",
   "execution_count": 22,
   "metadata": {},
   "outputs": [],
   "source": [
    "# current(1st of June) stat of KBO leagues \n",
    "stat_0601 = {\n",
    "    'SK': [.251, .702, .282, .289, 3.64, 1.34, .982],\n",
    "    'DOOSAN': [.273, .760, .271, .094, 3.13, 1.28, .985],\n",
    "    ' LG': [.259, .686, .247, .209, 3.25, 1.26, .984],\n",
    "    'NC': [.291, .796, .288, .129, 4.16, 1.38, .980],\n",
    "    'KIWOOM': [.285, .776, .308, .237, 4.25, 1.37, .983],\n",
    "    'HANWHA':[.253, .701, .259, .119, 4.67, 1.52, .982],\n",
    "    'KT': [.270, .715, .267, .200, 4.86, 1.50, .977],\n",
    "    'KIA': [.262, .713, .252, .154, 5.06, 1.56, .985],\n",
    "    'SAMSUNG': [.266, .739, .256, .292, 4.39, 1.39, .978],\n",
    "    'LOTTE': [.269, .718, .271, .224, 5.87, 1.70, .978],\n",
    "}"
   ]
  },
  {
   "cell_type": "code",
   "execution_count": 23,
   "metadata": {},
   "outputs": [
    {
     "name": "stdout",
     "output_type": "stream",
     "text": [
      "SK :  0.5355%\n",
      "DOOSAN :  55.05%\n",
      " LG :  0.9515%\n",
      "NC :  23.48%\n",
      "KIWOOM :  34.54%\n",
      "HANWHA :  0.04618%\n",
      "KT :  0.02096%\n",
      "KIA :  0.04605%\n",
      "SAMSUNG :  0.02842%\n",
      "LOTTE :  0.001412%\n"
     ]
    }
   ],
   "source": [
    "# Odds for Winning the 2019\n",
    "for team, value in stat_0601.items():\n",
    "    print(f'{team} :  {pipeline.predict_proba([value])[0][1]*100:.4}%')"
   ]
  },
  {
   "cell_type": "markdown",
   "metadata": {},
   "source": [
    "#### 1차 결론\n",
    "\n",
    "우승 확률이 계산되긴 하나, 10년 동안의 데이터가 고작 100건 밖에 안되고,   \n",
    "우승팀이 10건 밖에 되지 않기 때문에 신뢰도는 그다지 높지 못하다고 할 수 있다."
   ]
  },
  {
   "cell_type": "markdown",
   "metadata": {},
   "source": [
    "#### 전체 데이터를 사용해 모델 학습 진행\n",
    "\n",
    "데이터의 수가 많지 않으므로 테스트 데이터를 분리하지 않고,   \n",
    "전체 데이터를 통해 모델 학습을 진행해 보자."
   ]
  },
  {
   "cell_type": "code",
   "execution_count": 24,
   "metadata": {},
   "outputs": [
    {
     "data": {
      "text/plain": [
       "Pipeline(memory=None,\n",
       "     steps=[('scaler', StandardScaler(copy=True, with_mean=True, with_std=True)), ('classifier', LogisticRegression(C=1.0, class_weight=None, dual=False, fit_intercept=True,\n",
       "          intercept_scaling=1, max_iter=100, multi_class='warn',\n",
       "          n_jobs=None, penalty='l2', random_state=27, solver='lbfgs',\n",
       "          tol=0.0001, verbose=0, warm_start=False))])"
      ]
     },
     "execution_count": 24,
     "metadata": {},
     "output_type": "execute_result"
    }
   ],
   "source": [
    "# Train model with whole dataset\n",
    "pipeline.fit(ratio_X, win_y)"
   ]
  },
  {
   "cell_type": "code",
   "execution_count": 25,
   "metadata": {},
   "outputs": [],
   "source": [
    "test_preds = pipeline.predict(X_test)"
   ]
  },
  {
   "cell_type": "code",
   "execution_count": 26,
   "metadata": {},
   "outputs": [
    {
     "name": "stdout",
     "output_type": "stream",
     "text": [
      "              precision    recall  f1-score   support\n",
      "\n",
      "           0       0.88      1.00      0.93        14\n",
      "           1       1.00      0.33      0.50         3\n",
      "\n",
      "   micro avg       0.88      0.88      0.88        17\n",
      "   macro avg       0.94      0.67      0.72        17\n",
      "weighted avg       0.90      0.88      0.86        17\n",
      "\n"
     ]
    }
   ],
   "source": [
    "print(classification_report(y_test, test_preds))"
   ]
  },
  {
   "cell_type": "code",
   "execution_count": 27,
   "metadata": {},
   "outputs": [
    {
     "name": "stdout",
     "output_type": "stream",
     "text": [
      "SK :  1.131%\n",
      "DOOSAN :  92.19%\n",
      " LG :  4.272%\n",
      "NC :  41.32%\n",
      "KIWOOM :  36.99%\n",
      "HANWHA :  0.2256%\n",
      "KT :  0.02764%\n",
      "KIA :  0.1593%\n",
      "SAMSUNG :  0.02908%\n",
      "LOTTE :  0.001304%\n"
     ]
    }
   ],
   "source": [
    "# Print probabilties for each team\n",
    "predicts = {}\n",
    "for team, value in stat_0601.items():\n",
    "    proba = pipeline.predict_proba([value])[0][1]*100\n",
    "    predicts[team] = proba\n",
    "    print(f'{team} :  {proba:.4}%')"
   ]
  },
  {
   "cell_type": "code",
   "execution_count": 28,
   "metadata": {},
   "outputs": [
    {
     "data": {
      "image/png": "[encoded data removed]",
      "text/plain": [
       "<Figure size 864x432 with 1 Axes>"
      ]
     },
     "metadata": {
      "needs_background": "light"
     },
     "output_type": "display_data"
    }
   ],
   "source": [
    "# Draw chart with Seaborn\n",
    "fig, ax = plt.subplots(figsize=(12, 6))\n",
    "sns.barplot(x=list(predicts.keys()), y=list(predicts.values()), ax=ax)\n",
    "sns.despine(fig)\n",
    "\n",
    "ax.grid(False)\n",
    "ax.set_yticks([])\n",
    "\n",
    "fig.suptitle('6월 1일 기준 - KBO 2019 정규시즌 우승확률', fontproperties=title_font)\n",
    "\n",
    "for rect in ax.patches:\n",
    "    y_value = rect.get_height()\n",
    "    x_value = rect.get_x() + rect.get_width() / 2\n",
    "\n",
    "    label = '{:.1f}%'.format(y_value)\n",
    "    plt.annotate(label, (x_value, y_value), ha='center', fontsize=10)\n",
    "    \n",
    "plt.show()\n"
   ]
  },
  {
   "cell_type": "markdown",
   "metadata": {},
   "source": [
    "#### 6월 1일 기준 순위 별 우승 확률\n",
    "\n",
    "초기 예측 모델 작성 시점인 6월 1일 기준 성적은   \n",
    "SK, 두산, LG, NC, 키움의 순이었으나,   \n",
    "예측 모델은 두산의 우승 확률을 가장 높게 예측하고 있다."
   ]
  },
  {
   "cell_type": "markdown",
   "metadata": {},
   "source": [
    "### 포스트 시즌 진출 예측 모델\n",
    "\n",
    "KBO는 단일리그로 상위 5위까지 포스트 시즌에 진출 할 수 있는   \n",
    "조금은 독특한 형태의 리그인데, 우승팀 예측 모델 보다는  \n",
    "데이터 셋 내에 보다 많은 진출/실패의 경우가 존재하고 있기 때문에,   \n",
    "비교적 정확한 예측 모델 생성이 가능할 것으로 보인다.\n"
   ]
  },
  {
   "cell_type": "code",
   "execution_count": 29,
   "metadata": {},
   "outputs": [],
   "source": [
    "# Train & Test data\n",
    "X_train, X_test, y_train, y_test = train_test_split(ratio_X, post_y, test_size=.2)"
   ]
  },
  {
   "cell_type": "code",
   "execution_count": 30,
   "metadata": {},
   "outputs": [],
   "source": [
    "# Set pipeline with SS & Log_Regressor\n",
    "pp_post_lr = Pipeline([\n",
    "    ('scaler', StandardScaler()),\n",
    "    ('classifier', LogisticRegression(solver='lbfgs', \n",
    "                                      random_state=27))\n",
    "])"
   ]
  },
  {
   "cell_type": "code",
   "execution_count": 31,
   "metadata": {},
   "outputs": [
    {
     "data": {
      "text/plain": [
       "Pipeline(memory=None,\n",
       "     steps=[('scaler', StandardScaler(copy=True, with_mean=True, with_std=True)), ('classifier', LogisticRegression(C=1.0, class_weight=None, dual=False, fit_intercept=True,\n",
       "          intercept_scaling=1, max_iter=100, multi_class='warn',\n",
       "          n_jobs=None, penalty='l2', random_state=27, solver='lbfgs',\n",
       "          tol=0.0001, verbose=0, warm_start=False))])"
      ]
     },
     "execution_count": 31,
     "metadata": {},
     "output_type": "execute_result"
    }
   ],
   "source": [
    "# Train model\n",
    "pp_post_lr.fit(X_train, y_train)"
   ]
  },
  {
   "cell_type": "code",
   "execution_count": 32,
   "metadata": {},
   "outputs": [],
   "source": [
    "# Predict and show model performance\n",
    "test_preds = pp_post_lr.predict(X_test)"
   ]
  },
  {
   "cell_type": "code",
   "execution_count": 33,
   "metadata": {},
   "outputs": [
    {
     "name": "stdout",
     "output_type": "stream",
     "text": [
      "              precision    recall  f1-score   support\n",
      "\n",
      "           0       0.83      0.62      0.71         8\n",
      "           1       0.73      0.89      0.80         9\n",
      "\n",
      "   micro avg       0.76      0.76      0.76        17\n",
      "   macro avg       0.78      0.76      0.76        17\n",
      "weighted avg       0.78      0.76      0.76        17\n",
      "\n"
     ]
    }
   ],
   "source": [
    "print(classification_report(y_test, test_preds))"
   ]
  },
  {
   "cell_type": "code",
   "execution_count": 34,
   "metadata": {},
   "outputs": [
    {
     "name": "stdout",
     "output_type": "stream",
     "text": [
      "SK :  80.07%\n",
      "DOOSAN :  98.58%\n",
      " LG :  63.71%\n",
      "NC :  95.73%\n",
      "KIWOOM :  98.69%\n",
      "HANWHA :  0.9987%\n",
      "KT :  2.516%\n",
      "KIA :  0.4415%\n",
      "SAMSUNG :  13.8%\n",
      "LOTTE :  0.06441%\n"
     ]
    }
   ],
   "source": [
    "# Show odds for playoff\n",
    "predicts = {}\n",
    "for team, value in stat_0601.items():\n",
    "    proba = pp_post_lr.predict_proba([value])[0][1]*100\n",
    "    predicts[team] = proba\n",
    "    print(f'{team} :  {proba:.4}%')"
   ]
  },
  {
   "cell_type": "code",
   "execution_count": 35,
   "metadata": {},
   "outputs": [],
   "source": [
    "def draw_bar_chart(predicts, title, filename='./image/output.png'):\n",
    "    \"\"\"Draw a bar chart with Seaborn\"\"\"\n",
    "    # Draw chart with Seaborn\n",
    "    fig, ax = plt.subplots(figsize=(12, 6))\n",
    "    sns.barplot(x=list(predicts.keys()), y=list(predicts.values()), ax=ax)\n",
    "    sns.despine(fig)\n",
    "\n",
    "    ax.grid(False)\n",
    "    ax.set_yticks([])\n",
    "\n",
    "    fig.suptitle(title, fontproperties=title_font)\n",
    "\n",
    "    for rect in ax.patches:\n",
    "        y_value = rect.get_height()\n",
    "        x_value = rect.get_x() + rect.get_width() / 2\n",
    "\n",
    "        label = '{:.1f}%'.format(y_value)\n",
    "        plt.annotate(label, (x_value, y_value), ha='center', fontsize=10)\n",
    "\n",
    "    fig.savefig(filename)\n",
    "    plt.show()\n"
   ]
  },
  {
   "cell_type": "code",
   "execution_count": 36,
   "metadata": {},
   "outputs": [
    {
     "data": {
      "image/png": "[encoded data removed]",
      "text/plain": [
       "<Figure size 864x432 with 1 Axes>"
      ]
     },
     "metadata": {
      "needs_background": "light"
     },
     "output_type": "display_data"
    }
   ],
   "source": [
    "# 6/1 기준 포스트시즌 진출 확률\n",
    "draw_bar_chart(predicts, title='6월 1일 기준 - 2019시즌 포스트시즌 진출 확률')"
   ]
  },
  {
   "cell_type": "markdown",
   "metadata": {},
   "source": [
    "### Another prediction at 6/30"
   ]
  },
  {
   "cell_type": "code",
   "execution_count": 37,
   "metadata": {},
   "outputs": [],
   "source": [
    "# current(30th of June) stat of KBO leagues \n",
    "#['AVG', 'OPS', 'RISP', 'PH-BA', 'ERA', 'WHIP', 'FPCT']\n",
    "\n",
    "stat_0630 = {\n",
    "    'SK': [.267, .734, .285, .262, 3.52, 1.31, .984],\n",
    "    'DOOSAN': [.273, .747, .269, .133, 3.46, 1.33, .985],\n",
    "    'KIWOOM': [.281, .768, .292, .240, 4.05, 1.35, .981],\n",
    "    'LG': [.262, .695, .250, .229, 3.50, 1.34, .982],\n",
    "    'NC': [.281, .766, .280, .153, 4.45, 1.43, .980],\n",
    "    'KT': [.274, .720, .270, .220, 4.72, 1.46, .979],\n",
    "    'SAMSUNG': [.269, .752, .265, .234, 4.50, 1.42, .980],\n",
    "    'KIA': [.265, .717, .254, .186, 4.99, 1.54, .983],\n",
    "    'HANWHA':[.252, .695, .255, .130, 4.73, 1.52, .980],\n",
    "    'LOTTE': [.262, .702, .266, .232, 5.10, 1.61, .979],\n",
    "}"
   ]
  },
  {
   "cell_type": "code",
   "execution_count": 38,
   "metadata": {},
   "outputs": [
    {
     "name": "stdout",
     "output_type": "stream",
     "text": [
      "SK :  18.05%\n",
      "DOOSAN :  62.6%\n",
      "KIWOOM :  11.49%\n",
      "LG :  0.8484%\n",
      "NC :  4.753%\n",
      "KT :  0.1078%\n",
      "SAMSUNG :  0.2545%\n",
      "KIA :  0.07782%\n",
      "HANWHA :  0.05449%\n",
      "LOTTE :  0.005813%\n"
     ]
    }
   ],
   "source": [
    "# 우승 확률\n",
    "new_predicts_to_win = {}\n",
    "for team, value in stat_0630.items():\n",
    "    proba = pipeline.predict_proba([value])[0][1]*100\n",
    "    new_predicts_to_win[team] = proba\n",
    "    print(f'{team} :  {proba:.4}%')"
   ]
  },
  {
   "cell_type": "code",
   "execution_count": 39,
   "metadata": {},
   "outputs": [
    {
     "name": "stdout",
     "output_type": "stream",
     "text": [
      "SK :  97.25%\n",
      "DOOSAN :  93.8%\n",
      "KIWOOM :  96.48%\n",
      "LG :  41.21%\n",
      "NC :  61.66%\n",
      "KT :  9.448%\n",
      "SAMSUNG :  22.15%\n",
      "KIA :  0.7664%\n",
      "HANWHA :  0.4668%\n",
      "LOTTE :  0.3914%\n"
     ]
    }
   ],
   "source": [
    "new_predicts = {}\n",
    "for team, value in stat_0630.items():\n",
    "    proba = pp_post_lr.predict_proba([value])[0][1]*100\n",
    "    new_predicts[team] = proba\n",
    "    print(f'{team} :  {proba:.4}%')"
   ]
  },
  {
   "cell_type": "code",
   "execution_count": 40,
   "metadata": {},
   "outputs": [
    {
     "data": {
      "image/png": "[encoded data removed]",
      "text/plain": [
       "<Figure size 864x432 with 1 Axes>"
      ]
     },
     "metadata": {
      "needs_background": "light"
     },
     "output_type": "display_data"
    }
   ],
   "source": [
    "draw_bar_chart(new_predicts, title='6/30 기준 포스트 시즌 진출 확률')"
   ]
  },
  {
   "cell_type": "markdown",
   "metadata": {},
   "source": [
    "### 6월 30일자 예측\n",
    "\n",
    "6/30일 현재 SK가 리그를 리드하고 있으며, 두산, 키움 등이 가장 높은 포스트 시즌 진출 확률을   \n",
    "보이는 형태의 성적을 보여주고 있다. 4위 LG는 상대적으로 낮은 확률을 보이고 있으며,  \n",
    "하위권인 삼성이 높은 OPS를 바탕으로 비교적 높은 포스트 시즌 진출 확률을 나타내고 있다. "
   ]
  },
  {
   "cell_type": "markdown",
   "metadata": {},
   "source": [
    "### 7월 30일 기준 예측 추가\n",
    "\n",
    "7월 30일 현재 순위와 성적을 바탕으로 포스트 시즌 진출 확률 확인\n"
   ]
  },
  {
   "cell_type": "markdown",
   "metadata": {},
   "source": [
    "### KBO 리그 순위표\n",
    "\n",
    "![0730_Standing](./image/KBO_Standing_190730.png)"
   ]
  },
  {
   "cell_type": "code",
   "execution_count": 41,
   "metadata": {},
   "outputs": [],
   "source": [
    "# current(30th of July) stat of KBO leagues \n",
    "#['AVG', 'OPS', 'RISP', 'PH-BA', 'ERA', 'WHIP', 'FPCT']\n",
    "\n",
    "stat_0730 = {\n",
    "    'SK': [.270, .738, .296, .243, 3.41, 1.29, .984],\n",
    "    'KIWOOM': [.271, .766, .299, .246, 3.78, 1.32, .981],\n",
    "    'DOOSAN': [.273, .741, .273, .148, 3.44, 1.32, .984],\n",
    "    'LG': [.262, .700, .255, .227, 3.69, 1.34, .983],\n",
    "    'NC': [.281, .765, .276, .171, 4.32, 1.41, .980],\n",
    "    'KT': [.279, .731, .276, .207, 4.67, 1.45, .981],\n",
    "    'SAMSUNG': [.267, .748, .259, .247, 4.42, 1.43, .980],\n",
    "    'KIA': [.265, .717, .260, .203, 4.90, 1.52, .982],\n",
    "    'HANWHA':[.252, .690, .254, .153, 5.09, 1.55, .980],\n",
    "    'LOTTE': [.255, .687, .260, .211, 5.17, 1.60, .978],\n",
    "}"
   ]
  },
  {
   "cell_type": "code",
   "execution_count": 42,
   "metadata": {},
   "outputs": [
    {
     "name": "stdout",
     "output_type": "stream",
     "text": [
      "SK :  49.54%\n",
      "KIWOOM :  19.26%\n",
      "DOOSAN :  53.28%\n",
      "LG :  1.279%\n",
      "NC :  4.038%\n",
      "KT :  0.6872%\n",
      "SAMSUNG :  0.1363%\n",
      "KIA :  0.07783%\n",
      "HANWHA :  0.01314%\n",
      "LOTTE :  0.002214%\n"
     ]
    }
   ],
   "source": [
    "# 7/30일 기준 우승 확률\n",
    "predicts_to_win_0730 = {}\n",
    "for team, value in stat_0730.items():\n",
    "    proba = pipeline.predict_proba([value])[0][1]*100\n",
    "    new_predicts_to_win[team] = proba\n",
    "    print(f'{team} :  {proba:.4}%')"
   ]
  },
  {
   "cell_type": "code",
   "execution_count": 43,
   "metadata": {},
   "outputs": [
    {
     "name": "stdout",
     "output_type": "stream",
     "text": [
      "SK :  99.3%\n",
      "KIWOOM :  98.6%\n",
      "DOOSAN :  95.1%\n",
      "LG :  43.0%\n",
      "NC :  66.6%\n",
      "KT :  26.3%\n",
      "SAMSUNG :  15.4%\n",
      "KIA :  1.62%\n",
      "HANWHA :  0.134%\n",
      "LOTTE :  0.113%\n"
     ]
    }
   ],
   "source": [
    "# 포스트 시즌 진출 확률\n",
    "new_predicts = {}\n",
    "for team, value in stat_0730.items():\n",
    "    proba = pp_post_lr.predict_proba([value])[0][1]*100\n",
    "    new_predicts[team] = proba\n",
    "    print(f'{team} :  {proba:.3}%')"
   ]
  },
  {
   "cell_type": "code",
   "execution_count": 44,
   "metadata": {},
   "outputs": [
    {
     "data": {
      "image/png": "[encoded data removed]",
      "text/plain": [
       "<Figure size 864x432 with 1 Axes>"
      ]
     },
     "metadata": {
      "needs_background": "light"
     },
     "output_type": "display_data"
    }
   ],
   "source": [
    "draw_bar_chart(new_predicts, '7월 30일 기준 - 포스트 시즌 진출 확률')"
   ]
  },
  {
   "cell_type": "markdown",
   "metadata": {},
   "source": [
    "### 7월 30일자 예측\n",
    "\n",
    "SK, 키움, 두산 상위 3개팀의 포스트시즌 진출이 거의 확실시 되는 가운데,  \n",
    "독주 중인 SK의 정규리그 우승확률도 50% 가량으로 확인되고 있음.     \n",
    "\n",
    "DTD 대명사 LG가 취약한 공격력 때문에 4위임에도 불구하고 포스트 시즌 진출 확률이 낮게 나오는 가운데,  \n",
    "7월 한달 동안 선전한 KT의 확률이 큰폭으로 향상 되었음.  \n",
    "\n",
    "상대적으로 높은 OPS 등으로 하위권임에도 불구하고 삼성의 포스트 시즌 진출 확률이   \n",
    "다른 하위권 팀에 비해 높게 나오는 가운데, 기아, 한화, 롯데는 사실상 시즌 아웃 상황임.\n"
   ]
  },
  {
   "cell_type": "code",
   "execution_count": null,
   "metadata": {},
   "outputs": [],
   "source": []
  }
 ],
 "metadata": {
  "kernelspec": {
   "display_name": "Python 3",
   "language": "python",
   "name": "python3"
  },
  "language_info": {
   "codemirror_mode": {
    "name": "ipython",
    "version": 3
   },
   "file_extension": ".py",
   "mimetype": "text/x-python",
   "name": "python",
   "nbconvert_exporter": "python",
   "pygments_lexer": "ipython3",
   "version": "3.7.3"
  }
 },
 "nbformat": 4,
 "nbformat_minor": 2
}
