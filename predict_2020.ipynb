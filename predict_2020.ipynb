{
 "cells": [
  {
   "cell_type": "markdown",
   "metadata": {},
   "source": [
    "# Predict KBO 2020\n",
    "\n",
    "\n",
    "## KBO 정규 리그 우승팀 및 포스트 시즌 진출 팀 예측\n",
    "\n",
    "최근 10년간의 정규리그 성적을 바탕으로 2020 시즌 우승팀과 플레이오프 진출팀을 예측하는\n",
    "\n",
    "머신러닝 모델을 만들어 보자."
   ]
  },
  {
   "cell_type": "markdown",
   "metadata": {},
   "source": [
    "### Import necessary libraries\n"
   ]
  },
  {
   "cell_type": "code",
   "execution_count": 1,
   "metadata": {},
   "outputs": [],
   "source": [
    "import pandas as pd\n",
    "import numpy as np\n",
    "\n",
    "import matplotlib as mpl\n",
    "from matplotlib import pyplot as plt\n",
    "import matplotlib.font_manager as fm\n",
    "import seaborn as sns\n",
    "\n",
    "%matplotlib inline\n",
    "mpl.rcParams['axes.unicode_minus'] = False\n",
    "plt.style.use('seaborn-colorblind')\n",
    "\n",
    "from sklearn.pipeline import Pipeline\n",
    "from sklearn.model_selection import train_test_split\n",
    "from sklearn.preprocessing import StandardScaler\n",
    "from sklearn.linear_model import LogisticRegression\n",
    "from sklearn.metrics import classification_report"
   ]
  },
  {
   "cell_type": "markdown",
   "metadata": {},
   "source": [
    "### Data Set\n",
    "\n",
    "분석 자료는 한국야구위원회 공식 홈페이지 기록실에서 추출한 팀기록을 사용하였다.  \n",
    "\n",
    "링크 (https://www.koreabaseball.com/Record/Player/HitterBasic/Basic1.aspx)\n"
   ]
  },
  {
   "cell_type": "code",
   "execution_count": 2,
   "metadata": {},
   "outputs": [],
   "source": [
    "# Read Data \n",
    "df = pd.read_csv('./data/kbo_data.csv')"
   ]
  },
  {
   "cell_type": "code",
   "execution_count": 3,
   "metadata": {},
   "outputs": [
    {
     "data": {
      "text/html": [
       "<div>\n",
       "<style scoped>\n",
       "    .dataframe tbody tr th:only-of-type {\n",
       "        vertical-align: middle;\n",
       "    }\n",
       "\n",
       "    .dataframe tbody tr th {\n",
       "        vertical-align: top;\n",
       "    }\n",
       "\n",
       "    .dataframe thead th {\n",
       "        text-align: right;\n",
       "    }\n",
       "</style>\n",
       "<table border=\"1\" class=\"dataframe\">\n",
       "  <thead>\n",
       "    <tr style=\"text-align: right;\">\n",
       "      <th></th>\n",
       "      <th>WIN</th>\n",
       "      <th>POST</th>\n",
       "      <th>YEAR</th>\n",
       "      <th>TEAM</th>\n",
       "      <th>AVG</th>\n",
       "      <th>G</th>\n",
       "      <th>PA</th>\n",
       "      <th>AB</th>\n",
       "      <th>R</th>\n",
       "      <th>H</th>\n",
       "      <th>...</th>\n",
       "      <th>PB</th>\n",
       "      <th>SB_A</th>\n",
       "      <th>CS_A</th>\n",
       "      <th>CS%</th>\n",
       "      <th>SBA</th>\n",
       "      <th>SB</th>\n",
       "      <th>CS</th>\n",
       "      <th>SB%</th>\n",
       "      <th>OOB</th>\n",
       "      <th>PKO.1</th>\n",
       "    </tr>\n",
       "  </thead>\n",
       "  <tbody>\n",
       "    <tr>\n",
       "      <th>0</th>\n",
       "      <td>N</td>\n",
       "      <td>N</td>\n",
       "      <td>2010</td>\n",
       "      <td>넥센</td>\n",
       "      <td>0.262</td>\n",
       "      <td>133</td>\n",
       "      <td>5139</td>\n",
       "      <td>4452</td>\n",
       "      <td>570</td>\n",
       "      <td>1165</td>\n",
       "      <td>...</td>\n",
       "      <td>9</td>\n",
       "      <td>160</td>\n",
       "      <td>68</td>\n",
       "      <td>29.8</td>\n",
       "      <td>191</td>\n",
       "      <td>135</td>\n",
       "      <td>56</td>\n",
       "      <td>70.7</td>\n",
       "      <td>56</td>\n",
       "      <td>5</td>\n",
       "    </tr>\n",
       "    <tr>\n",
       "      <th>1</th>\n",
       "      <td>N</td>\n",
       "      <td>Y</td>\n",
       "      <td>2010</td>\n",
       "      <td>두산</td>\n",
       "      <td>0.281</td>\n",
       "      <td>133</td>\n",
       "      <td>5252</td>\n",
       "      <td>4538</td>\n",
       "      <td>731</td>\n",
       "      <td>1276</td>\n",
       "      <td>...</td>\n",
       "      <td>8</td>\n",
       "      <td>119</td>\n",
       "      <td>44</td>\n",
       "      <td>27.0</td>\n",
       "      <td>189</td>\n",
       "      <td>128</td>\n",
       "      <td>61</td>\n",
       "      <td>67.7</td>\n",
       "      <td>56</td>\n",
       "      <td>12</td>\n",
       "    </tr>\n",
       "    <tr>\n",
       "      <th>2</th>\n",
       "      <td>N</td>\n",
       "      <td>Y</td>\n",
       "      <td>2010</td>\n",
       "      <td>롯데</td>\n",
       "      <td>0.288</td>\n",
       "      <td>133</td>\n",
       "      <td>5261</td>\n",
       "      <td>4673</td>\n",
       "      <td>773</td>\n",
       "      <td>1345</td>\n",
       "      <td>...</td>\n",
       "      <td>6</td>\n",
       "      <td>131</td>\n",
       "      <td>62</td>\n",
       "      <td>32.1</td>\n",
       "      <td>175</td>\n",
       "      <td>124</td>\n",
       "      <td>51</td>\n",
       "      <td>70.9</td>\n",
       "      <td>62</td>\n",
       "      <td>7</td>\n",
       "    </tr>\n",
       "    <tr>\n",
       "      <th>3</th>\n",
       "      <td>N</td>\n",
       "      <td>Y</td>\n",
       "      <td>2010</td>\n",
       "      <td>삼성</td>\n",
       "      <td>0.272</td>\n",
       "      <td>133</td>\n",
       "      <td>5287</td>\n",
       "      <td>4436</td>\n",
       "      <td>681</td>\n",
       "      <td>1207</td>\n",
       "      <td>...</td>\n",
       "      <td>6</td>\n",
       "      <td>134</td>\n",
       "      <td>65</td>\n",
       "      <td>32.7</td>\n",
       "      <td>213</td>\n",
       "      <td>158</td>\n",
       "      <td>55</td>\n",
       "      <td>74.2</td>\n",
       "      <td>54</td>\n",
       "      <td>8</td>\n",
       "    </tr>\n",
       "    <tr>\n",
       "      <th>4</th>\n",
       "      <td>N</td>\n",
       "      <td>N</td>\n",
       "      <td>2010</td>\n",
       "      <td>한화</td>\n",
       "      <td>0.244</td>\n",
       "      <td>133</td>\n",
       "      <td>5009</td>\n",
       "      <td>4321</td>\n",
       "      <td>543</td>\n",
       "      <td>1053</td>\n",
       "      <td>...</td>\n",
       "      <td>7</td>\n",
       "      <td>151</td>\n",
       "      <td>58</td>\n",
       "      <td>27.8</td>\n",
       "      <td>191</td>\n",
       "      <td>121</td>\n",
       "      <td>70</td>\n",
       "      <td>63.4</td>\n",
       "      <td>56</td>\n",
       "      <td>11</td>\n",
       "    </tr>\n",
       "  </tbody>\n",
       "</table>\n",
       "<p>5 rows × 73 columns</p>\n",
       "</div>"
      ],
      "text/plain": [
       "  WIN POST  YEAR TEAM    AVG    G    PA    AB    R     H  ...  PB  SB_A  CS_A  \\\n",
       "0   N    N  2010   넥센  0.262  133  5139  4452  570  1165  ...   9   160    68   \n",
       "1   N    Y  2010   두산  0.281  133  5252  4538  731  1276  ...   8   119    44   \n",
       "2   N    Y  2010   롯데  0.288  133  5261  4673  773  1345  ...   6   131    62   \n",
       "3   N    Y  2010   삼성  0.272  133  5287  4436  681  1207  ...   6   134    65   \n",
       "4   N    N  2010   한화  0.244  133  5009  4321  543  1053  ...   7   151    58   \n",
       "\n",
       "    CS%  SBA   SB  CS   SB%  OOB  PKO.1  \n",
       "0  29.8  191  135  56  70.7   56      5  \n",
       "1  27.0  189  128  61  67.7   56     12  \n",
       "2  32.1  175  124  51  70.9   62      7  \n",
       "3  32.7  213  158  55  74.2   54      8  \n",
       "4  27.8  191  121  70  63.4   56     11  \n",
       "\n",
       "[5 rows x 73 columns]"
      ]
     },
     "execution_count": 3,
     "metadata": {},
     "output_type": "execute_result"
    }
   ],
   "source": [
    "df.head(5)"
   ]
  },
  {
   "cell_type": "code",
   "execution_count": 4,
   "metadata": {},
   "outputs": [
    {
     "data": {
      "text/html": [
       "<div>\n",
       "<style scoped>\n",
       "    .dataframe tbody tr th:only-of-type {\n",
       "        vertical-align: middle;\n",
       "    }\n",
       "\n",
       "    .dataframe tbody tr th {\n",
       "        vertical-align: top;\n",
       "    }\n",
       "\n",
       "    .dataframe thead th {\n",
       "        text-align: right;\n",
       "    }\n",
       "</style>\n",
       "<table border=\"1\" class=\"dataframe\">\n",
       "  <thead>\n",
       "    <tr style=\"text-align: right;\">\n",
       "      <th></th>\n",
       "      <th>count</th>\n",
       "      <th>mean</th>\n",
       "      <th>std</th>\n",
       "      <th>min</th>\n",
       "      <th>25%</th>\n",
       "      <th>50%</th>\n",
       "      <th>75%</th>\n",
       "      <th>max</th>\n",
       "    </tr>\n",
       "  </thead>\n",
       "  <tbody>\n",
       "    <tr>\n",
       "      <th>YEAR</th>\n",
       "      <td>92.0</td>\n",
       "      <td>2014.750000</td>\n",
       "      <td>2.850198</td>\n",
       "      <td>2010.000</td>\n",
       "      <td>2012.000</td>\n",
       "      <td>2015.000</td>\n",
       "      <td>2017.000</td>\n",
       "      <td>2019.000</td>\n",
       "    </tr>\n",
       "    <tr>\n",
       "      <th>AVG</th>\n",
       "      <td>92.0</td>\n",
       "      <td>0.276348</td>\n",
       "      <td>0.015442</td>\n",
       "      <td>0.243</td>\n",
       "      <td>0.263</td>\n",
       "      <td>0.278</td>\n",
       "      <td>0.289</td>\n",
       "      <td>0.309</td>\n",
       "    </tr>\n",
       "    <tr>\n",
       "      <th>G</th>\n",
       "      <td>92.0</td>\n",
       "      <td>138.000000</td>\n",
       "      <td>6.793662</td>\n",
       "      <td>128.000</td>\n",
       "      <td>133.000</td>\n",
       "      <td>144.000</td>\n",
       "      <td>144.000</td>\n",
       "      <td>144.000</td>\n",
       "    </tr>\n",
       "    <tr>\n",
       "      <th>PA</th>\n",
       "      <td>92.0</td>\n",
       "      <td>5409.847826</td>\n",
       "      <td>311.596913</td>\n",
       "      <td>4866.000</td>\n",
       "      <td>5127.750</td>\n",
       "      <td>5488.000</td>\n",
       "      <td>5685.500</td>\n",
       "      <td>5870.000</td>\n",
       "    </tr>\n",
       "    <tr>\n",
       "      <th>AB</th>\n",
       "      <td>92.0</td>\n",
       "      <td>4728.532609</td>\n",
       "      <td>305.710574</td>\n",
       "      <td>4271.000</td>\n",
       "      <td>4425.250</td>\n",
       "      <td>4870.000</td>\n",
       "      <td>4995.250</td>\n",
       "      <td>5176.000</td>\n",
       "    </tr>\n",
       "    <tr>\n",
       "      <th>...</th>\n",
       "      <td>...</td>\n",
       "      <td>...</td>\n",
       "      <td>...</td>\n",
       "      <td>...</td>\n",
       "      <td>...</td>\n",
       "      <td>...</td>\n",
       "      <td>...</td>\n",
       "      <td>...</td>\n",
       "    </tr>\n",
       "    <tr>\n",
       "      <th>SB</th>\n",
       "      <td>92.0</td>\n",
       "      <td>111.065217</td>\n",
       "      <td>29.648418</td>\n",
       "      <td>53.000</td>\n",
       "      <td>92.750</td>\n",
       "      <td>107.500</td>\n",
       "      <td>128.500</td>\n",
       "      <td>204.000</td>\n",
       "    </tr>\n",
       "    <tr>\n",
       "      <th>CS</th>\n",
       "      <td>92.0</td>\n",
       "      <td>50.315217</td>\n",
       "      <td>11.541544</td>\n",
       "      <td>23.000</td>\n",
       "      <td>42.000</td>\n",
       "      <td>50.000</td>\n",
       "      <td>57.250</td>\n",
       "      <td>83.000</td>\n",
       "    </tr>\n",
       "    <tr>\n",
       "      <th>SB%</th>\n",
       "      <td>92.0</td>\n",
       "      <td>68.406522</td>\n",
       "      <td>5.168561</td>\n",
       "      <td>55.800</td>\n",
       "      <td>65.325</td>\n",
       "      <td>69.150</td>\n",
       "      <td>71.375</td>\n",
       "      <td>80.700</td>\n",
       "    </tr>\n",
       "    <tr>\n",
       "      <th>OOB</th>\n",
       "      <td>92.0</td>\n",
       "      <td>53.510870</td>\n",
       "      <td>7.708272</td>\n",
       "      <td>33.000</td>\n",
       "      <td>49.000</td>\n",
       "      <td>54.000</td>\n",
       "      <td>58.000</td>\n",
       "      <td>72.000</td>\n",
       "    </tr>\n",
       "    <tr>\n",
       "      <th>PKO.1</th>\n",
       "      <td>92.0</td>\n",
       "      <td>8.989130</td>\n",
       "      <td>3.602486</td>\n",
       "      <td>2.000</td>\n",
       "      <td>6.750</td>\n",
       "      <td>8.000</td>\n",
       "      <td>11.250</td>\n",
       "      <td>19.000</td>\n",
       "    </tr>\n",
       "  </tbody>\n",
       "</table>\n",
       "<p>69 rows × 8 columns</p>\n",
       "</div>"
      ],
      "text/plain": [
       "       count         mean         std       min       25%       50%       75%  \\\n",
       "YEAR    92.0  2014.750000    2.850198  2010.000  2012.000  2015.000  2017.000   \n",
       "AVG     92.0     0.276348    0.015442     0.243     0.263     0.278     0.289   \n",
       "G       92.0   138.000000    6.793662   128.000   133.000   144.000   144.000   \n",
       "PA      92.0  5409.847826  311.596913  4866.000  5127.750  5488.000  5685.500   \n",
       "AB      92.0  4728.532609  305.710574  4271.000  4425.250  4870.000  4995.250   \n",
       "...      ...          ...         ...       ...       ...       ...       ...   \n",
       "SB      92.0   111.065217   29.648418    53.000    92.750   107.500   128.500   \n",
       "CS      92.0    50.315217   11.541544    23.000    42.000    50.000    57.250   \n",
       "SB%     92.0    68.406522    5.168561    55.800    65.325    69.150    71.375   \n",
       "OOB     92.0    53.510870    7.708272    33.000    49.000    54.000    58.000   \n",
       "PKO.1   92.0     8.989130    3.602486     2.000     6.750     8.000    11.250   \n",
       "\n",
       "            max  \n",
       "YEAR   2019.000  \n",
       "AVG       0.309  \n",
       "G       144.000  \n",
       "PA     5870.000  \n",
       "AB     5176.000  \n",
       "...         ...  \n",
       "SB      204.000  \n",
       "CS       83.000  \n",
       "SB%      80.700  \n",
       "OOB      72.000  \n",
       "PKO.1    19.000  \n",
       "\n",
       "[69 rows x 8 columns]"
      ]
     },
     "execution_count": 4,
     "metadata": {},
     "output_type": "execute_result"
    }
   ],
   "source": [
    "df.describe().T"
   ]
  },
  {
   "cell_type": "markdown",
   "metadata": {},
   "source": [
    "### Features (예측 변수)\n",
    "\n",
    "2020년 시즌은 현재 진행 중이므로, 안타수, 홈런수 등의 총 합 데이터는 지양하고,  \n",
    "비율로 구성된 값들만을 예측 변수로 사용해 초기 모델을 만들어 보자.\n",
    "\n",
    "- AVG : batting AVeraGe (타율)\n",
    "- OPS : On base Plus Slugging (출루율 + 장타율)\n",
    "- RISP : batting AVG at Runner In Scoring Position (득점권타율)\n",
    "- PH-BA : Pinch Hitter - Batting Average (대타 타율)\n",
    "- ERA : Earned Runs Average (평균자책점)\n",
    "- WHIP : Walks Plus Hits Divided by Innings Pitched (이닝당출루허용)\n",
    "- FPCT : Fielding PerCenTage (수비율)"
   ]
  },
  {
   "cell_type": "code",
   "execution_count": 5,
   "metadata": {},
   "outputs": [],
   "source": [
    "# features : AVG, OPS, RISP(Runner In Scoring Position) AVG, \n",
    "# PH-BA(Pinch Hitter - Batting Average), ERA, WHIP, FPCT(Fielding PerCenTage)\n",
    "features = ['AVG', 'OPS', 'RISP', 'PH-BA', 'ERA', 'WHIP', 'FPCT']"
   ]
  },
  {
   "cell_type": "code",
   "execution_count": 6,
   "metadata": {},
   "outputs": [
    {
     "data": {
      "text/plain": [
       "['AVG', 'OPS', 'RISP', 'PH-BA', 'ERA', 'WHIP', 'FPCT']"
      ]
     },
     "execution_count": 6,
     "metadata": {},
     "output_type": "execute_result"
    }
   ],
   "source": [
    "list(df.loc[df['WIN'] == 1, features])"
   ]
  },
  {
   "cell_type": "code",
   "execution_count": 7,
   "metadata": {},
   "outputs": [],
   "source": [
    "# Check the stats of Winners\n",
    "win = df.loc[df['WIN'] == 'Y', features].mean()"
   ]
  },
  {
   "cell_type": "code",
   "execution_count": 8,
   "metadata": {},
   "outputs": [
    {
     "data": {
      "text/plain": [
       "AVG      0.2878\n",
       "OPS      0.7996\n",
       "RISP     0.2978\n",
       "PH-BA    0.2229\n",
       "ERA      4.1370\n",
       "WHIP     1.3740\n",
       "FPCT     0.9845\n",
       "dtype: float64"
      ]
     },
     "execution_count": 8,
     "metadata": {},
     "output_type": "execute_result"
    }
   ],
   "source": [
    "win"
   ]
  },
  {
   "cell_type": "code",
   "execution_count": 9,
   "metadata": {},
   "outputs": [],
   "source": [
    "post = df.loc[df['POST'] == 'Y', features].mean()"
   ]
  },
  {
   "cell_type": "code",
   "execution_count": 10,
   "metadata": {},
   "outputs": [
    {
     "data": {
      "text/plain": [
       "AVG      0.282267\n",
       "OPS      0.785622\n",
       "RISP     0.288378\n",
       "PH-BA    0.231578\n",
       "ERA      4.358000\n",
       "WHIP     1.412222\n",
       "FPCT     0.982956\n",
       "dtype: float64"
      ]
     },
     "execution_count": 10,
     "metadata": {},
     "output_type": "execute_result"
    }
   ],
   "source": [
    "post"
   ]
  },
  {
   "cell_type": "code",
   "execution_count": 11,
   "metadata": {},
   "outputs": [],
   "source": [
    "all = df.loc[:, features].mean()"
   ]
  },
  {
   "cell_type": "code",
   "execution_count": 12,
   "metadata": {},
   "outputs": [
    {
     "data": {
      "text/plain": [
       "AVG      0.276348\n",
       "OPS      0.764750\n",
       "RISP     0.280054\n",
       "PH-BA    0.226674\n",
       "ERA      4.671304\n",
       "WHIP     1.465000\n",
       "FPCT     0.982120\n",
       "dtype: float64"
      ]
     },
     "execution_count": 12,
     "metadata": {},
     "output_type": "execute_result"
    }
   ],
   "source": [
    "all"
   ]
  },
  {
   "cell_type": "code",
   "execution_count": 13,
   "metadata": {},
   "outputs": [],
   "source": [
    "feature_df = pd.DataFrame(zip(features,win,post,all), columns=['CATE','WIN', 'POST', 'ALL'])"
   ]
  },
  {
   "cell_type": "code",
   "execution_count": 14,
   "metadata": {},
   "outputs": [
    {
     "data": {
      "text/html": [
       "<div>\n",
       "<style scoped>\n",
       "    .dataframe tbody tr th:only-of-type {\n",
       "        vertical-align: middle;\n",
       "    }\n",
       "\n",
       "    .dataframe tbody tr th {\n",
       "        vertical-align: top;\n",
       "    }\n",
       "\n",
       "    .dataframe thead th {\n",
       "        text-align: right;\n",
       "    }\n",
       "</style>\n",
       "<table border=\"1\" class=\"dataframe\">\n",
       "  <thead>\n",
       "    <tr style=\"text-align: right;\">\n",
       "      <th></th>\n",
       "      <th>CATE</th>\n",
       "      <th>WIN</th>\n",
       "      <th>POST</th>\n",
       "      <th>ALL</th>\n",
       "    </tr>\n",
       "  </thead>\n",
       "  <tbody>\n",
       "    <tr>\n",
       "      <th>0</th>\n",
       "      <td>AVG</td>\n",
       "      <td>0.2878</td>\n",
       "      <td>0.282267</td>\n",
       "      <td>0.276348</td>\n",
       "    </tr>\n",
       "    <tr>\n",
       "      <th>1</th>\n",
       "      <td>OPS</td>\n",
       "      <td>0.7996</td>\n",
       "      <td>0.785622</td>\n",
       "      <td>0.764750</td>\n",
       "    </tr>\n",
       "    <tr>\n",
       "      <th>2</th>\n",
       "      <td>RISP</td>\n",
       "      <td>0.2978</td>\n",
       "      <td>0.288378</td>\n",
       "      <td>0.280054</td>\n",
       "    </tr>\n",
       "    <tr>\n",
       "      <th>3</th>\n",
       "      <td>PH-BA</td>\n",
       "      <td>0.2229</td>\n",
       "      <td>0.231578</td>\n",
       "      <td>0.226674</td>\n",
       "    </tr>\n",
       "    <tr>\n",
       "      <th>4</th>\n",
       "      <td>ERA</td>\n",
       "      <td>4.1370</td>\n",
       "      <td>4.358000</td>\n",
       "      <td>4.671304</td>\n",
       "    </tr>\n",
       "    <tr>\n",
       "      <th>5</th>\n",
       "      <td>WHIP</td>\n",
       "      <td>1.3740</td>\n",
       "      <td>1.412222</td>\n",
       "      <td>1.465000</td>\n",
       "    </tr>\n",
       "    <tr>\n",
       "      <th>6</th>\n",
       "      <td>FPCT</td>\n",
       "      <td>0.9845</td>\n",
       "      <td>0.982956</td>\n",
       "      <td>0.982120</td>\n",
       "    </tr>\n",
       "  </tbody>\n",
       "</table>\n",
       "</div>"
      ],
      "text/plain": [
       "    CATE     WIN      POST       ALL\n",
       "0    AVG  0.2878  0.282267  0.276348\n",
       "1    OPS  0.7996  0.785622  0.764750\n",
       "2   RISP  0.2978  0.288378  0.280054\n",
       "3  PH-BA  0.2229  0.231578  0.226674\n",
       "4    ERA  4.1370  4.358000  4.671304\n",
       "5   WHIP  1.3740  1.412222  1.465000\n",
       "6   FPCT  0.9845  0.982956  0.982120"
      ]
     },
     "execution_count": 14,
     "metadata": {},
     "output_type": "execute_result"
    }
   ],
   "source": [
    "feature_df"
   ]
  },
  {
   "cell_type": "code",
   "execution_count": 15,
   "metadata": {},
   "outputs": [],
   "source": [
    "# Korean Font for Chart Title\n",
    "title_font = fm.FontProperties(fname='/Users/taeho/Library/Fonts/NanumGothicBold.ttf', size=20)"
   ]
  },
  {
   "cell_type": "code",
   "execution_count": 16,
   "metadata": {},
   "outputs": [
    {
     "data": {
      "image/png": "[encoded data removed]",
      "text/plain": [
       "<Figure size 1008x432 with 1 Axes>"
      ]
     },
     "metadata": {
      "needs_background": "light"
     },
     "output_type": "display_data"
    }
   ],
   "source": [
    "fig, ax = plt.subplots(figsize=(14, 6))\n",
    "graph_df = feature_df.melt(id_vars='CATE').rename(columns=str.title)\n",
    "sns.barplot(x='Cate', y='Value', hue='Variable', data=graph_df, ax=ax)\n",
    "sns.despine(fig)\n",
    "\n",
    "ax.grid(False)\n",
    "ax.set_yticks([])\n",
    "\n",
    "fig.suptitle('최근 10년간 평균 기록 비교', fontproperties=title_font)\n",
    "\n",
    "for rect in ax.patches:\n",
    "    y_value = rect.get_height()\n",
    "    x_value = rect.get_x() + rect.get_width() / 2\n",
    "\n",
    "    label = '{:.3f}'.format(y_value)\n",
    "    plt.annotate(label, (x_value, y_value), ha='center', fontsize=10)\n",
    "    \n",
    "plt.show()"
   ]
  },
  {
   "cell_type": "markdown",
   "metadata": {},
   "source": [
    "대타 성공률을 제외한 모든 지표가 우승팀 평균이 전체 평균보다 상당히 좋은 수준을 가지고 있으므로,\n",
    "\n",
    "우승팀 예측에 사용될 수 있음."
   ]
  },
  {
   "cell_type": "markdown",
   "metadata": {},
   "source": [
    "#### 데이터 정리와 타겟 변수 설정"
   ]
  },
  {
   "cell_type": "code",
   "execution_count": 17,
   "metadata": {},
   "outputs": [],
   "source": [
    "# Cleaning Data for Classifier\n",
    "# Change 'Y' to 1, 'N' to 0\n",
    "df['WIN'] = df['WIN'].map(lambda x: 0 if x == 'N' else 1)\n",
    "df['POST'] = df['POST'].map(lambda x: 0 if x == 'N' else 1)"
   ]
  },
  {
   "cell_type": "code",
   "execution_count": 18,
   "metadata": {},
   "outputs": [],
   "source": [
    "# Set target data frames\n",
    "win_y = df['WIN']\n",
    "post_y = df['POST']"
   ]
  },
  {
   "cell_type": "code",
   "execution_count": 19,
   "metadata": {},
   "outputs": [],
   "source": [
    "# Only pick the features with Ratio because it is middle of season\n",
    "ratio_X = df[features]"
   ]
  },
  {
   "cell_type": "code",
   "execution_count": 20,
   "metadata": {},
   "outputs": [
    {
     "data": {
      "text/html": [
       "<div>\n",
       "<style scoped>\n",
       "    .dataframe tbody tr th:only-of-type {\n",
       "        vertical-align: middle;\n",
       "    }\n",
       "\n",
       "    .dataframe tbody tr th {\n",
       "        vertical-align: top;\n",
       "    }\n",
       "\n",
       "    .dataframe thead th {\n",
       "        text-align: right;\n",
       "    }\n",
       "</style>\n",
       "<table border=\"1\" class=\"dataframe\">\n",
       "  <thead>\n",
       "    <tr style=\"text-align: right;\">\n",
       "      <th></th>\n",
       "      <th>AVG</th>\n",
       "      <th>OPS</th>\n",
       "      <th>RISP</th>\n",
       "      <th>PH-BA</th>\n",
       "      <th>ERA</th>\n",
       "      <th>WHIP</th>\n",
       "      <th>FPCT</th>\n",
       "    </tr>\n",
       "  </thead>\n",
       "  <tbody>\n",
       "    <tr>\n",
       "      <th>0</th>\n",
       "      <td>0.262</td>\n",
       "      <td>0.714</td>\n",
       "      <td>0.268</td>\n",
       "      <td>0.221</td>\n",
       "      <td>4.55</td>\n",
       "      <td>1.50</td>\n",
       "      <td>0.982</td>\n",
       "    </tr>\n",
       "    <tr>\n",
       "      <th>1</th>\n",
       "      <td>0.281</td>\n",
       "      <td>0.805</td>\n",
       "      <td>0.284</td>\n",
       "      <td>0.210</td>\n",
       "      <td>4.62</td>\n",
       "      <td>1.38</td>\n",
       "      <td>0.982</td>\n",
       "    </tr>\n",
       "    <tr>\n",
       "      <th>2</th>\n",
       "      <td>0.288</td>\n",
       "      <td>0.813</td>\n",
       "      <td>0.315</td>\n",
       "      <td>0.202</td>\n",
       "      <td>4.82</td>\n",
       "      <td>1.43</td>\n",
       "      <td>0.981</td>\n",
       "    </tr>\n",
       "    <tr>\n",
       "      <th>3</th>\n",
       "      <td>0.272</td>\n",
       "      <td>0.774</td>\n",
       "      <td>0.265</td>\n",
       "      <td>0.247</td>\n",
       "      <td>3.94</td>\n",
       "      <td>1.36</td>\n",
       "      <td>0.982</td>\n",
       "    </tr>\n",
       "    <tr>\n",
       "      <th>4</th>\n",
       "      <td>0.244</td>\n",
       "      <td>0.690</td>\n",
       "      <td>0.263</td>\n",
       "      <td>0.172</td>\n",
       "      <td>5.43</td>\n",
       "      <td>1.57</td>\n",
       "      <td>0.984</td>\n",
       "    </tr>\n",
       "  </tbody>\n",
       "</table>\n",
       "</div>"
      ],
      "text/plain": [
       "     AVG    OPS   RISP  PH-BA   ERA  WHIP   FPCT\n",
       "0  0.262  0.714  0.268  0.221  4.55  1.50  0.982\n",
       "1  0.281  0.805  0.284  0.210  4.62  1.38  0.982\n",
       "2  0.288  0.813  0.315  0.202  4.82  1.43  0.981\n",
       "3  0.272  0.774  0.265  0.247  3.94  1.36  0.982\n",
       "4  0.244  0.690  0.263  0.172  5.43  1.57  0.984"
      ]
     },
     "execution_count": 20,
     "metadata": {},
     "output_type": "execute_result"
    }
   ],
   "source": [
    "ratio_X.head()"
   ]
  },
  {
   "cell_type": "code",
   "execution_count": 21,
   "metadata": {},
   "outputs": [],
   "source": [
    "# Split data set for train & test model\n",
    "X_train, X_test, y_train, y_test = train_test_split(ratio_X, win_y, test_size=.2)"
   ]
  },
  {
   "cell_type": "markdown",
   "metadata": {},
   "source": [
    "#### 로지스틱 회귀분석 모형을 사용해 초기 예측 모델 생성"
   ]
  },
  {
   "cell_type": "markdown",
   "metadata": {},
   "source": [
    "분류 예측 모델 중 가장 기본이 되는 로지스틱 회귀분석 모형을 사용해,  \n",
    "포스트시즌 진출 여부를 확인하는 예측 모델을 학습시켜보자"
   ]
  },
  {
   "cell_type": "code",
   "execution_count": 22,
   "metadata": {},
   "outputs": [],
   "source": [
    "# Set pipeline with SS & Log_Regressor\n",
    "pipeline = Pipeline([\n",
    "    ('scaler', StandardScaler()),\n",
    "    ('classifier', LogisticRegression(solver='lbfgs',\n",
    "                                      random_state=27))\n",
    "])"
   ]
  },
  {
   "cell_type": "code",
   "execution_count": 23,
   "metadata": {},
   "outputs": [
    {
     "data": {
      "text/plain": [
       "Pipeline(memory=None,\n",
       "         steps=[('scaler',\n",
       "                 StandardScaler(copy=True, with_mean=True, with_std=True)),\n",
       "                ('classifier',\n",
       "                 LogisticRegression(C=1.0, class_weight=None, dual=False,\n",
       "                                    fit_intercept=True, intercept_scaling=1,\n",
       "                                    l1_ratio=None, max_iter=100,\n",
       "                                    multi_class='auto', n_jobs=None,\n",
       "                                    penalty='l2', random_state=27,\n",
       "                                    solver='lbfgs', tol=0.0001, verbose=0,\n",
       "                                    warm_start=False))],\n",
       "         verbose=False)"
      ]
     },
     "execution_count": 23,
     "metadata": {},
     "output_type": "execute_result"
    }
   ],
   "source": [
    "pipeline.fit(X_train, y_train)"
   ]
  },
  {
   "cell_type": "markdown",
   "metadata": {},
   "source": [
    "#### 테스트 데이터를 통한 모델 정확도 확인"
   ]
  },
  {
   "cell_type": "code",
   "execution_count": 24,
   "metadata": {},
   "outputs": [],
   "source": [
    "test_preds = pipeline.predict(X_test)"
   ]
  },
  {
   "cell_type": "code",
   "execution_count": 25,
   "metadata": {},
   "outputs": [
    {
     "name": "stdout",
     "output_type": "stream",
     "text": [
      "              precision    recall  f1-score   support\n",
      "\n",
      "           0       0.94      1.00      0.97        17\n",
      "           1       1.00      0.50      0.67         2\n",
      "\n",
      "    accuracy                           0.95        19\n",
      "   macro avg       0.97      0.75      0.82        19\n",
      "weighted avg       0.95      0.95      0.94        19\n",
      "\n"
     ]
    }
   ],
   "source": [
    "print(classification_report(y_test, test_preds))"
   ]
  },
  {
   "cell_type": "markdown",
   "metadata": {},
   "source": [
    "모델의 정확도는 95% 수준으로 비교적 정확한 편이라 할 수 있다."
   ]
  },
  {
   "cell_type": "markdown",
   "metadata": {},
   "source": [
    "#### 실제 데이터를 통한 확률 예측"
   ]
  },
  {
   "cell_type": "code",
   "execution_count": 26,
   "metadata": {},
   "outputs": [],
   "source": [
    "# current(18/May) stat of KBO leagues \n",
    "# AVG(타율), OPS('출루율'+'장타율'), RISP('득점권타율'), PH-BA('대타타율'), \n",
    "# ERA('평균자책점'), WHIP('이닝당출루허용'), FPCT('수비율')\n",
    "\n",
    "stat_20200518 = {\n",
    "    'NC': [.281, .847, .309, .353, 3.26, 1.22, .988],\n",
    "    'DOOSAN': [.337, .760, .348, 0.143, 6.24, 1.71, .978],\n",
    "    'LG': [.288, .815, .304, .400, 5.05, 1.48, .990],\n",
    "    'LOTTE': [.289, .818, .264, .111, 4.11, 1.34, .991],\n",
    "    'KIWOOM': [.248, .725, .313, .308, 3.60, 1.26, .987],\n",
    "    'KIA': [.261, .741, .245, .125, 5.31, 1.50, .977],\n",
    "    'HANWHA':[.258, .654, .231, .111, 3.31, 1.24, .984],\n",
    "    'KT': [.311, .857, .302, .286, 5.04, 1.47, .974],\n",
    "    'SAMSUNG': [.228, .647, .287, .357, 5.02, 1.53, .970],\n",
    "    'SK': [.230, .648, .194, .133, 5.68, 1.59, .988],    \n",
    "}"
   ]
  },
  {
   "cell_type": "code",
   "execution_count": 27,
   "metadata": {},
   "outputs": [
    {
     "name": "stdout",
     "output_type": "stream",
     "text": [
      "NC :  89.4%\n",
      "DOOSAN :  4.562%\n",
      "LG :  4.198%\n",
      "LOTTE :  98.73%\n",
      "KIWOOM :  29.43%\n",
      "KIA :  0.03901%\n",
      "HANWHA :  17.17%\n",
      "KT :  0.2428%\n",
      "SAMSUNG :  1.018e-05%\n",
      "SK :  0.009951%\n"
     ]
    }
   ],
   "source": [
    "# Print probabilties for each team\n",
    "predicts = {}\n",
    "for team, value in stat_20200518.items():\n",
    "    proba = pipeline.predict_proba([value])[0][1]*100\n",
    "    predicts[team] = proba\n",
    "    print(f'{team} :  {proba:.4}%')"
   ]
  },
  {
   "cell_type": "code",
   "execution_count": 28,
   "metadata": {},
   "outputs": [],
   "source": [
    "def draw_bar_chart(predicts, title='KBO 정규시즌 우승확률'):\n",
    "    # Draw chart with Seaborn\n",
    "    fig, ax = plt.subplots(figsize=(12, 6))\n",
    "    sns.barplot(x=list(predicts.keys()), y=list(predicts.values()), ax=ax)\n",
    "    sns.despine(fig)\n",
    "\n",
    "    ax.grid(False)\n",
    "    ax.set_yticks([])\n",
    "\n",
    "    fig.suptitle(title, fontproperties=title_font)\n",
    "\n",
    "    for rect in ax.patches:\n",
    "        y_value = rect.get_height()\n",
    "        x_value = rect.get_x() + rect.get_width() / 2\n",
    "\n",
    "        label = '{:.1f}%'.format(y_value)\n",
    "        plt.annotate(label, (x_value, y_value), ha='center', fontsize=10)\n",
    "\n",
    "    plt.show()"
   ]
  },
  {
   "cell_type": "markdown",
   "metadata": {},
   "source": [
    "#### 우승 데이터는 케이스가 너무 적으므로 학습/테스트 데이터를 나누지 말고 전체 데이터로 학습을 시켜보자."
   ]
  },
  {
   "cell_type": "code",
   "execution_count": 29,
   "metadata": {},
   "outputs": [
    {
     "data": {
      "text/plain": [
       "Pipeline(memory=None,\n",
       "         steps=[('scaler',\n",
       "                 StandardScaler(copy=True, with_mean=True, with_std=True)),\n",
       "                ('classifier',\n",
       "                 LogisticRegression(C=1.0, class_weight=None, dual=False,\n",
       "                                    fit_intercept=True, intercept_scaling=1,\n",
       "                                    l1_ratio=None, max_iter=100,\n",
       "                                    multi_class='auto', n_jobs=None,\n",
       "                                    penalty='l2', random_state=27,\n",
       "                                    solver='lbfgs', tol=0.0001, verbose=0,\n",
       "                                    warm_start=False))],\n",
       "         verbose=False)"
      ]
     },
     "execution_count": 29,
     "metadata": {},
     "output_type": "execute_result"
    }
   ],
   "source": [
    "# Train model with whole dataset\n",
    "pipeline.fit(ratio_X, win_y)"
   ]
  },
  {
   "cell_type": "code",
   "execution_count": 30,
   "metadata": {},
   "outputs": [
    {
     "name": "stdout",
     "output_type": "stream",
     "text": [
      "NC :  94.4%\n",
      "DOOSAN :  9.293%\n",
      "LG :  5.187%\n",
      "LOTTE :  98.93%\n",
      "KIWOOM :  28.45%\n",
      "KIA :  0.01301%\n",
      "HANWHA :  8.169%\n",
      "KT :  0.3721%\n",
      "SAMSUNG :  2.156e-06%\n",
      "SK :  0.001017%\n"
     ]
    }
   ],
   "source": [
    "# Print probabilties for each team\n",
    "predicts = {}\n",
    "for team, value in stat_20200518.items():\n",
    "    proba = pipeline.predict_proba([value])[0][1]*100\n",
    "    predicts[team] = proba\n",
    "    print(f'{team} :  {proba:.4}%')"
   ]
  },
  {
   "cell_type": "code",
   "execution_count": 31,
   "metadata": {},
   "outputs": [
    {
     "data": {
      "image/png": "[encoded data removed]",
      "text/plain": [
       "<Figure size 864x432 with 1 Axes>"
      ]
     },
     "metadata": {
      "needs_background": "light"
     },
     "output_type": "display_data"
    }
   ],
   "source": [
    "draw_bar_chart(predicts, '5월 18일기준 - KBO 2020 우승 확률')"
   ]
  },
  {
   "cell_type": "markdown",
   "metadata": {},
   "source": [
    "### 포스트 시즌 진출 확률 예측\n",
    "\n",
    "우승보다는 통계적으로 조금 더 유의미한 값을 구할 수 있는 포스트 시즌 예측 확률을 구해보자."
   ]
  },
  {
   "cell_type": "markdown",
   "metadata": {},
   "source": [
    "KBO리그는 단일리그로 상위 5위까지 포스트 시즌에 진출 하는 형태로 운영되고 있어,  \n",
    "최근 10년간 데이터 셋 내에 보다 많은 진출/실패의 경우가 존재하고 있기 때문에,  \n",
    "우승 예측보다는 비교적 정확한 예측 모델 생성이 가능하다"
   ]
  },
  {
   "cell_type": "code",
   "execution_count": 32,
   "metadata": {},
   "outputs": [],
   "source": [
    "# Train & Test data\n",
    "X_train, X_test, y_train, y_test = train_test_split(ratio_X, post_y, test_size=.2)"
   ]
  },
  {
   "cell_type": "code",
   "execution_count": 33,
   "metadata": {},
   "outputs": [],
   "source": [
    "# Set pipeline with SS & Log_Regressor\n",
    "pp_post_lr = Pipeline([\n",
    "    ('scaler', StandardScaler()),\n",
    "    ('classifier', LogisticRegression(solver='lbfgs', \n",
    "                                      random_state=27))\n",
    "])"
   ]
  },
  {
   "cell_type": "code",
   "execution_count": 34,
   "metadata": {},
   "outputs": [
    {
     "data": {
      "text/plain": [
       "Pipeline(memory=None,\n",
       "         steps=[('scaler',\n",
       "                 StandardScaler(copy=True, with_mean=True, with_std=True)),\n",
       "                ('classifier',\n",
       "                 LogisticRegression(C=1.0, class_weight=None, dual=False,\n",
       "                                    fit_intercept=True, intercept_scaling=1,\n",
       "                                    l1_ratio=None, max_iter=100,\n",
       "                                    multi_class='auto', n_jobs=None,\n",
       "                                    penalty='l2', random_state=27,\n",
       "                                    solver='lbfgs', tol=0.0001, verbose=0,\n",
       "                                    warm_start=False))],\n",
       "         verbose=False)"
      ]
     },
     "execution_count": 34,
     "metadata": {},
     "output_type": "execute_result"
    }
   ],
   "source": [
    "# Train model\n",
    "pp_post_lr.fit(X_train, y_train)"
   ]
  },
  {
   "cell_type": "code",
   "execution_count": 35,
   "metadata": {},
   "outputs": [],
   "source": [
    "# Predict and show model performance\n",
    "test_preds = pp_post_lr.predict(X_test)"
   ]
  },
  {
   "cell_type": "code",
   "execution_count": 36,
   "metadata": {},
   "outputs": [
    {
     "name": "stdout",
     "output_type": "stream",
     "text": [
      "              precision    recall  f1-score   support\n",
      "\n",
      "           0       0.90      0.75      0.82        12\n",
      "           1       0.67      0.86      0.75         7\n",
      "\n",
      "    accuracy                           0.79        19\n",
      "   macro avg       0.78      0.80      0.78        19\n",
      "weighted avg       0.81      0.79      0.79        19\n",
      "\n"
     ]
    }
   ],
   "source": [
    "print(classification_report(y_test, test_preds))"
   ]
  },
  {
   "cell_type": "markdown",
   "metadata": {},
   "source": [
    "최근 10년간 포스트시즌 진출 여부 데이터를 80:20 비율로 나누어  \n",
    "80%의 데이터로 학습시키고, 20% 데이터로 검증을 실시해 본 결과,   \n",
    "약 84% 수준의 정확도를 가지는 예측 모델이 학습되었다."
   ]
  },
  {
   "cell_type": "code",
   "execution_count": 37,
   "metadata": {},
   "outputs": [
    {
     "name": "stdout",
     "output_type": "stream",
     "text": [
      "NC :  100.0%\n",
      "DOOSAN :  4.27%\n",
      "LG :  99.59%\n",
      "LOTTE :  98.91%\n",
      "KIWOOM :  99.69%\n",
      "KIA :  0.1038%\n",
      "HANWHA :  25.43%\n",
      "KT :  83.74%\n",
      "SAMSUNG :  0.05785%\n",
      "SK :  0.002343%\n"
     ]
    }
   ],
   "source": [
    "# Show odds for playoff\n",
    "predicts = {}\n",
    "for team, value in stat_20200518.items():\n",
    "    proba = pp_post_lr.predict_proba([value])[0][1]*100\n",
    "    predicts[team] = proba\n",
    "    print(f'{team} :  {proba:.4}%')"
   ]
  },
  {
   "cell_type": "code",
   "execution_count": 38,
   "metadata": {},
   "outputs": [
    {
     "data": {
      "image/png": "[encoded data removed]",
      "text/plain": [
       "<Figure size 864x432 with 1 Axes>"
      ]
     },
     "metadata": {
      "needs_background": "light"
     },
     "output_type": "display_data"
    }
   ],
   "source": [
    "# 5/18 기준 포스트시즌 진출 확률\n",
    "draw_bar_chart(predicts, title='5월 18일 기준 - 2020시즌 포스트시즌 진출 확률')"
   ]
  },
  {
   "attachments": {},
   "cell_type": "markdown",
   "metadata": {},
   "source": [
    "### <center>  - 2020/5/18 현재 순위표 - </center>\n",
    "\n",
    "| 순위 \t| 팀명 \t| 경기 \t| 승 \t| 패 \t| 무 \t| 승률  \t| 게임차 \t| 타율  \t| OPS   \t| 득점권타율 \t| 대타타율 \t| 평균자책 \t| WHIP  \t| 수비율 \t| POST 확율 \t|\n",
    "|------\t|------\t|------\t|----\t|----\t|----\t|-------\t|--------\t|-------\t|-------\t|------------\t|----------\t|----------\t|-------\t|--------\t|-----------\t|\n",
    "| 1    \t| NC   \t| 11   \t| 10 \t| 1  \t| 0  \t| 0.909 \t| 0      \t| 0.281 \t| 0.847 \t| 0.309      \t| 0.353    \t| 3.260    \t| 1.220 \t| 0.988  \t| 100%      \t|\n",
    "| 2    \t| 두산 \t| 11   \t| 7  \t| 4  \t| 0  \t| 0.636 \t| 3      \t| 0.337 \t| 0.760 \t| 0.348      \t| 0.143    \t| 6.240    \t| 1.710 \t| 0.978  \t| 4.27%     \t|\n",
    "| 2    \t| LG   \t| 11   \t| 7  \t| 4  \t| 0  \t| 0.636 \t| 3      \t| 0.288 \t| 0.815 \t| 0.304      \t| 0.400    \t| 5.050    \t| 1.480 \t| 0.990  \t| 99.59%    \t|\n",
    "| 2    \t| 롯데 \t| 11   \t| 7  \t| 4  \t| 0  \t| 0.636 \t| 3      \t| 0.289 \t| 0.818 \t| 0.264      \t| 0.111    \t| 4.110    \t| 1.340 \t| 0.991  \t| 98.91%    \t|\n",
    "| 5    \t| 키움 \t| 12   \t| 7  \t| 5  \t| 0  \t| 0.583 \t| 3.5    \t| 0.248 \t| 0.725 \t| 0.313      \t| 0.308    \t| 3.600    \t| 1.260 \t| 0.987  \t| 99.69%    \t|\n",
    "| 6    \t| KIA  \t| 12   \t| 5  \t| 7  \t| 0  \t| 0.417 \t| 5.5    \t| 0.261 \t| 0.741 \t| 0.245      \t| 0.125    \t| 5.310    \t| 1.500 \t| 0.977  \t| 0.1%      \t|\n",
    "| 6    \t| 한화 \t| 12   \t| 5  \t| 7  \t| 0  \t| 0.417 \t| 5.5    \t| 0.258 \t| 0.654 \t| 0.231      \t| 0.111    \t| 3.310    \t| 1.240 \t| 0.984  \t| 25.43%    \t|\n",
    "| 8    \t| KT   \t| 11   \t| 4  \t| 7  \t| 0  \t| 0.364 \t| 6      \t| 0.311 \t| 0.857 \t| 0.302      \t| 0.286    \t| 5.040    \t| 1.470 \t| 0.974  \t| 83.74%    \t|\n",
    "| 9    \t| 삼성 \t| 12   \t| 4  \t| 8  \t| 0  \t| 0.333 \t| 6.5    \t| 0.228 \t| 0.647 \t| 0.287      \t| 0.357    \t| 5.020    \t| 1.530 \t| 0.970  \t| 0.05%     \t|\n",
    "| 10   \t| SK   \t| 11   \t| 1  \t| 10 \t| 0  \t| 0.091 \t| 9      \t| 0.230 \t| 0.648 \t| 0.194      \t| 0.133    \t| 5.680    \t| 1.590 \t| 0.988  \t| 0.002%    \t|\n"
   ]
  },
  {
   "cell_type": "markdown",
   "metadata": {},
   "source": [
    "### 5/18 결론\n",
    "\n",
    "시즌 초반이지만, NC, LG, 키움, 롯데 등이 전형적인 강팀이 보여주는 타격/투수력 지표를 보여주고 있어,  \n",
    "예측 모델 상으로는 아주 높은 포스트시즌 진출 확률을 나타내고 있다.  \n",
    "상위권인 두산은 높은 팀평균자책점 때문에 2위임에도 불구하고 아주 낮은 포스트 시즌 확률을 보여주고 있고,  \n",
    "패가 많은 KT는 상대적으로 투타 균형을 보여주고 있는 관계로 비교적 높은 포스트 시즌 확률을 가지고 있다.\n",
    "\n",
    "\n"
   ]
  },
  {
   "cell_type": "code",
   "execution_count": null,
   "metadata": {},
   "outputs": [],
   "source": []
  },
  {
   "cell_type": "code",
   "execution_count": null,
   "metadata": {},
   "outputs": [],
   "source": []
  }
 ],
 "metadata": {
  "kernelspec": {
   "display_name": "Python 3",
   "language": "python",
   "name": "python3"
  },
  "language_info": {
   "codemirror_mode": {
    "name": "ipython",
    "version": 3
   },
   "file_extension": ".py",
   "mimetype": "text/x-python",
   "name": "python",
   "nbconvert_exporter": "python",
   "pygments_lexer": "ipython3",
   "version": "3.7.4"
  }
 },
 "nbformat": 4,
 "nbformat_minor": 2
}
