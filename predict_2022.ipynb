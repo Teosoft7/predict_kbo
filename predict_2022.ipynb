{
 "cells": [
  {
   "cell_type": "markdown",
   "id": "8305c909-ac6b-46b6-b144-b888b7a3bfee",
   "metadata": {},
   "source": [
    "# Predict KBO 2022\n",
    "\n",
    "\n",
    "## KBO 정규 리그 우승팀 및 포스트 시즌 진출 팀 예측\n",
    "\n",
    "최근 12년간의 정규리그 성적을 바탕으로 2022 시즌 우승팀과 플레이오프 진출팀을 예측하는\n",
    "\n",
    "머신러닝 모델을 만들어 보자."
   ]
  },
  {
   "cell_type": "markdown",
   "id": "290f815e-63b9-4c30-9bb9-d1e2842c4627",
   "metadata": {},
   "source": [
    "### Import libraries\n"
   ]
  },
  {
   "cell_type": "code",
   "execution_count": 3,
   "id": "174a5e0d-dddf-4271-8f74-6ca9a8ca518b",
   "metadata": {},
   "outputs": [],
   "source": [
    "import pandas as pd\n",
    "import numpy as np\n",
    "\n",
    "import matplotlib as mpl\n",
    "from matplotlib import pyplot as plt\n",
    "import matplotlib.font_manager as fm\n",
    "import seaborn as sns\n",
    "\n",
    "%matplotlib inline\n",
    "mpl.rcParams['axes.unicode_minus'] = False\n",
    "plt.style.use('seaborn-colorblind')\n",
    "\n",
    "from sklearn.pipeline import Pipeline\n",
    "from sklearn.model_selection import train_test_split\n",
    "from sklearn.preprocessing import StandardScaler\n",
    "from sklearn.linear_model import LogisticRegression\n",
    "from sklearn.metrics import classification_report"
   ]
  },
  {
   "cell_type": "markdown",
   "id": "d8ce139b-2ea0-4369-836c-71efd71c3740",
   "metadata": {},
   "source": [
    "### Data Set\n",
    "\n",
    "분석 자료는 한국야구위원회 공식 홈페이지 기록실에서 추출한 팀기록을 사용하였다.  \n",
    "\n",
    "링크 (https://www.koreabaseball.com/Record/Player/HitterBasic/Basic1.aspx)\n"
   ]
  },
  {
   "cell_type": "code",
   "execution_count": 5,
   "id": "eb1eb442-011f-4b38-8d9b-15a915c05c82",
   "metadata": {},
   "outputs": [],
   "source": [
    "# Read Data \n",
    "df = pd.read_csv('./data/kbo_data_2022.csv')"
   ]
  },
  {
   "cell_type": "code",
   "execution_count": 6,
   "id": "9cf6fdc4-f3b6-48f6-9b37-61aa20f7f312",
   "metadata": {},
   "outputs": [
    {
     "data": {
      "text/html": [
       "<div>\n",
       "<style scoped>\n",
       "    .dataframe tbody tr th:only-of-type {\n",
       "        vertical-align: middle;\n",
       "    }\n",
       "\n",
       "    .dataframe tbody tr th {\n",
       "        vertical-align: top;\n",
       "    }\n",
       "\n",
       "    .dataframe thead th {\n",
       "        text-align: right;\n",
       "    }\n",
       "</style>\n",
       "<table border=\"1\" class=\"dataframe\">\n",
       "  <thead>\n",
       "    <tr style=\"text-align: right;\">\n",
       "      <th></th>\n",
       "      <th>WIN</th>\n",
       "      <th>POST</th>\n",
       "      <th>YEAR</th>\n",
       "      <th>TEAM</th>\n",
       "      <th>AVG</th>\n",
       "      <th>G</th>\n",
       "      <th>PA</th>\n",
       "      <th>AB</th>\n",
       "      <th>R</th>\n",
       "      <th>H</th>\n",
       "      <th>...</th>\n",
       "      <th>PB</th>\n",
       "      <th>SB_A</th>\n",
       "      <th>CS_A</th>\n",
       "      <th>CS%</th>\n",
       "      <th>SBA</th>\n",
       "      <th>SB</th>\n",
       "      <th>CS</th>\n",
       "      <th>SB%</th>\n",
       "      <th>OOB</th>\n",
       "      <th>PKO.1</th>\n",
       "    </tr>\n",
       "  </thead>\n",
       "  <tbody>\n",
       "    <tr>\n",
       "      <th>0</th>\n",
       "      <td>N</td>\n",
       "      <td>N</td>\n",
       "      <td>2010</td>\n",
       "      <td>넥센</td>\n",
       "      <td>0.262</td>\n",
       "      <td>133</td>\n",
       "      <td>5139</td>\n",
       "      <td>4452</td>\n",
       "      <td>570</td>\n",
       "      <td>1165</td>\n",
       "      <td>...</td>\n",
       "      <td>9</td>\n",
       "      <td>160</td>\n",
       "      <td>68</td>\n",
       "      <td>29.8</td>\n",
       "      <td>191</td>\n",
       "      <td>135</td>\n",
       "      <td>56</td>\n",
       "      <td>70.7</td>\n",
       "      <td>56</td>\n",
       "      <td>5</td>\n",
       "    </tr>\n",
       "    <tr>\n",
       "      <th>1</th>\n",
       "      <td>N</td>\n",
       "      <td>Y</td>\n",
       "      <td>2010</td>\n",
       "      <td>두산</td>\n",
       "      <td>0.281</td>\n",
       "      <td>133</td>\n",
       "      <td>5252</td>\n",
       "      <td>4538</td>\n",
       "      <td>731</td>\n",
       "      <td>1276</td>\n",
       "      <td>...</td>\n",
       "      <td>8</td>\n",
       "      <td>119</td>\n",
       "      <td>44</td>\n",
       "      <td>27.0</td>\n",
       "      <td>189</td>\n",
       "      <td>128</td>\n",
       "      <td>61</td>\n",
       "      <td>67.7</td>\n",
       "      <td>56</td>\n",
       "      <td>12</td>\n",
       "    </tr>\n",
       "    <tr>\n",
       "      <th>2</th>\n",
       "      <td>N</td>\n",
       "      <td>Y</td>\n",
       "      <td>2010</td>\n",
       "      <td>롯데</td>\n",
       "      <td>0.288</td>\n",
       "      <td>133</td>\n",
       "      <td>5261</td>\n",
       "      <td>4673</td>\n",
       "      <td>773</td>\n",
       "      <td>1345</td>\n",
       "      <td>...</td>\n",
       "      <td>6</td>\n",
       "      <td>131</td>\n",
       "      <td>62</td>\n",
       "      <td>32.1</td>\n",
       "      <td>175</td>\n",
       "      <td>124</td>\n",
       "      <td>51</td>\n",
       "      <td>70.9</td>\n",
       "      <td>62</td>\n",
       "      <td>7</td>\n",
       "    </tr>\n",
       "    <tr>\n",
       "      <th>3</th>\n",
       "      <td>N</td>\n",
       "      <td>Y</td>\n",
       "      <td>2010</td>\n",
       "      <td>삼성</td>\n",
       "      <td>0.272</td>\n",
       "      <td>133</td>\n",
       "      <td>5287</td>\n",
       "      <td>4436</td>\n",
       "      <td>681</td>\n",
       "      <td>1207</td>\n",
       "      <td>...</td>\n",
       "      <td>6</td>\n",
       "      <td>134</td>\n",
       "      <td>65</td>\n",
       "      <td>32.7</td>\n",
       "      <td>213</td>\n",
       "      <td>158</td>\n",
       "      <td>55</td>\n",
       "      <td>74.2</td>\n",
       "      <td>54</td>\n",
       "      <td>8</td>\n",
       "    </tr>\n",
       "    <tr>\n",
       "      <th>4</th>\n",
       "      <td>N</td>\n",
       "      <td>N</td>\n",
       "      <td>2010</td>\n",
       "      <td>한화</td>\n",
       "      <td>0.244</td>\n",
       "      <td>133</td>\n",
       "      <td>5009</td>\n",
       "      <td>4321</td>\n",
       "      <td>543</td>\n",
       "      <td>1053</td>\n",
       "      <td>...</td>\n",
       "      <td>7</td>\n",
       "      <td>151</td>\n",
       "      <td>58</td>\n",
       "      <td>27.8</td>\n",
       "      <td>191</td>\n",
       "      <td>121</td>\n",
       "      <td>70</td>\n",
       "      <td>63.4</td>\n",
       "      <td>56</td>\n",
       "      <td>11</td>\n",
       "    </tr>\n",
       "  </tbody>\n",
       "</table>\n",
       "<p>5 rows × 73 columns</p>\n",
       "</div>"
      ],
      "text/plain": [
       "  WIN POST  YEAR TEAM    AVG    G    PA    AB    R     H  ...  PB  SB_A  CS_A  \\\n",
       "0   N    N  2010   넥센  0.262  133  5139  4452  570  1165  ...   9   160    68   \n",
       "1   N    Y  2010   두산  0.281  133  5252  4538  731  1276  ...   8   119    44   \n",
       "2   N    Y  2010   롯데  0.288  133  5261  4673  773  1345  ...   6   131    62   \n",
       "3   N    Y  2010   삼성  0.272  133  5287  4436  681  1207  ...   6   134    65   \n",
       "4   N    N  2010   한화  0.244  133  5009  4321  543  1053  ...   7   151    58   \n",
       "\n",
       "    CS%  SBA   SB  CS   SB%  OOB  PKO.1  \n",
       "0  29.8  191  135  56  70.7   56      5  \n",
       "1  27.0  189  128  61  67.7   56     12  \n",
       "2  32.1  175  124  51  70.9   62      7  \n",
       "3  32.7  213  158  55  74.2   54      8  \n",
       "4  27.8  191  121  70  63.4   56     11  \n",
       "\n",
       "[5 rows x 73 columns]"
      ]
     },
     "execution_count": 6,
     "metadata": {},
     "output_type": "execute_result"
    }
   ],
   "source": [
    "df.head(5)"
   ]
  },
  {
   "cell_type": "code",
   "execution_count": 7,
   "id": "09d9ba84-72f2-41a1-a5e4-6df92b3d661f",
   "metadata": {},
   "outputs": [
    {
     "data": {
      "text/html": [
       "<div>\n",
       "<style scoped>\n",
       "    .dataframe tbody tr th:only-of-type {\n",
       "        vertical-align: middle;\n",
       "    }\n",
       "\n",
       "    .dataframe tbody tr th {\n",
       "        vertical-align: top;\n",
       "    }\n",
       "\n",
       "    .dataframe thead th {\n",
       "        text-align: right;\n",
       "    }\n",
       "</style>\n",
       "<table border=\"1\" class=\"dataframe\">\n",
       "  <thead>\n",
       "    <tr style=\"text-align: right;\">\n",
       "      <th></th>\n",
       "      <th>count</th>\n",
       "      <th>mean</th>\n",
       "      <th>std</th>\n",
       "      <th>min</th>\n",
       "      <th>25%</th>\n",
       "      <th>50%</th>\n",
       "      <th>75%</th>\n",
       "      <th>max</th>\n",
       "    </tr>\n",
       "  </thead>\n",
       "  <tbody>\n",
       "    <tr>\n",
       "      <th>YEAR</th>\n",
       "      <td>112.0</td>\n",
       "      <td>2015.776786</td>\n",
       "      <td>3.405639</td>\n",
       "      <td>2010.000</td>\n",
       "      <td>2013.00000</td>\n",
       "      <td>2016.0000</td>\n",
       "      <td>2019.000</td>\n",
       "      <td>2021.000</td>\n",
       "    </tr>\n",
       "    <tr>\n",
       "      <th>AVG</th>\n",
       "      <td>112.0</td>\n",
       "      <td>0.274509</td>\n",
       "      <td>0.015821</td>\n",
       "      <td>0.237</td>\n",
       "      <td>0.26175</td>\n",
       "      <td>0.2755</td>\n",
       "      <td>0.288</td>\n",
       "      <td>0.309</td>\n",
       "    </tr>\n",
       "    <tr>\n",
       "      <th>G</th>\n",
       "      <td>112.0</td>\n",
       "      <td>139.071429</td>\n",
       "      <td>6.570085</td>\n",
       "      <td>128.000</td>\n",
       "      <td>133.00000</td>\n",
       "      <td>144.0000</td>\n",
       "      <td>144.000</td>\n",
       "      <td>144.000</td>\n",
       "    </tr>\n",
       "    <tr>\n",
       "      <th>PA</th>\n",
       "      <td>112.0</td>\n",
       "      <td>5450.223214</td>\n",
       "      <td>298.276693</td>\n",
       "      <td>4866.000</td>\n",
       "      <td>5150.25000</td>\n",
       "      <td>5540.5000</td>\n",
       "      <td>5697.500</td>\n",
       "      <td>5870.000</td>\n",
       "    </tr>\n",
       "    <tr>\n",
       "      <th>AB</th>\n",
       "      <td>112.0</td>\n",
       "      <td>4759.687500</td>\n",
       "      <td>288.165025</td>\n",
       "      <td>4271.000</td>\n",
       "      <td>4436.75000</td>\n",
       "      <td>4878.0000</td>\n",
       "      <td>4995.250</td>\n",
       "      <td>5176.000</td>\n",
       "    </tr>\n",
       "    <tr>\n",
       "      <th>...</th>\n",
       "      <td>...</td>\n",
       "      <td>...</td>\n",
       "      <td>...</td>\n",
       "      <td>...</td>\n",
       "      <td>...</td>\n",
       "      <td>...</td>\n",
       "      <td>...</td>\n",
       "      <td>...</td>\n",
       "    </tr>\n",
       "    <tr>\n",
       "      <th>SB</th>\n",
       "      <td>112.0</td>\n",
       "      <td>107.598214</td>\n",
       "      <td>29.311763</td>\n",
       "      <td>47.000</td>\n",
       "      <td>88.00000</td>\n",
       "      <td>105.0000</td>\n",
       "      <td>121.750</td>\n",
       "      <td>204.000</td>\n",
       "    </tr>\n",
       "    <tr>\n",
       "      <th>CS</th>\n",
       "      <td>112.0</td>\n",
       "      <td>48.214286</td>\n",
       "      <td>11.938603</td>\n",
       "      <td>23.000</td>\n",
       "      <td>39.00000</td>\n",
       "      <td>47.0000</td>\n",
       "      <td>56.000</td>\n",
       "      <td>83.000</td>\n",
       "    </tr>\n",
       "    <tr>\n",
       "      <th>SB%</th>\n",
       "      <td>112.0</td>\n",
       "      <td>68.690179</td>\n",
       "      <td>5.151820</td>\n",
       "      <td>55.800</td>\n",
       "      <td>65.87500</td>\n",
       "      <td>69.2000</td>\n",
       "      <td>71.875</td>\n",
       "      <td>80.700</td>\n",
       "    </tr>\n",
       "    <tr>\n",
       "      <th>OOB</th>\n",
       "      <td>112.0</td>\n",
       "      <td>52.526786</td>\n",
       "      <td>7.904794</td>\n",
       "      <td>33.000</td>\n",
       "      <td>47.75000</td>\n",
       "      <td>53.0000</td>\n",
       "      <td>58.000</td>\n",
       "      <td>72.000</td>\n",
       "    </tr>\n",
       "    <tr>\n",
       "      <th>PKO.1</th>\n",
       "      <td>112.0</td>\n",
       "      <td>8.812500</td>\n",
       "      <td>3.713941</td>\n",
       "      <td>2.000</td>\n",
       "      <td>6.00000</td>\n",
       "      <td>8.0000</td>\n",
       "      <td>11.000</td>\n",
       "      <td>19.000</td>\n",
       "    </tr>\n",
       "  </tbody>\n",
       "</table>\n",
       "<p>70 rows × 8 columns</p>\n",
       "</div>"
      ],
      "text/plain": [
       "       count         mean         std       min         25%        50%  \\\n",
       "YEAR   112.0  2015.776786    3.405639  2010.000  2013.00000  2016.0000   \n",
       "AVG    112.0     0.274509    0.015821     0.237     0.26175     0.2755   \n",
       "G      112.0   139.071429    6.570085   128.000   133.00000   144.0000   \n",
       "PA     112.0  5450.223214  298.276693  4866.000  5150.25000  5540.5000   \n",
       "AB     112.0  4759.687500  288.165025  4271.000  4436.75000  4878.0000   \n",
       "...      ...          ...         ...       ...         ...        ...   \n",
       "SB     112.0   107.598214   29.311763    47.000    88.00000   105.0000   \n",
       "CS     112.0    48.214286   11.938603    23.000    39.00000    47.0000   \n",
       "SB%    112.0    68.690179    5.151820    55.800    65.87500    69.2000   \n",
       "OOB    112.0    52.526786    7.904794    33.000    47.75000    53.0000   \n",
       "PKO.1  112.0     8.812500    3.713941     2.000     6.00000     8.0000   \n",
       "\n",
       "            75%       max  \n",
       "YEAR   2019.000  2021.000  \n",
       "AVG       0.288     0.309  \n",
       "G       144.000   144.000  \n",
       "PA     5697.500  5870.000  \n",
       "AB     4995.250  5176.000  \n",
       "...         ...       ...  \n",
       "SB      121.750   204.000  \n",
       "CS       56.000    83.000  \n",
       "SB%      71.875    80.700  \n",
       "OOB      58.000    72.000  \n",
       "PKO.1    11.000    19.000  \n",
       "\n",
       "[70 rows x 8 columns]"
      ]
     },
     "execution_count": 7,
     "metadata": {},
     "output_type": "execute_result"
    }
   ],
   "source": [
    "df.describe().T"
   ]
  },
  {
   "cell_type": "markdown",
   "id": "f9d4a903-ee66-45ee-885a-dbd72244fbf1",
   "metadata": {},
   "source": [
    "### Features (예측 변수)\n",
    "\n",
    "시즌 중에도 예측 가능한 모델을 위해 안타수, 홈런수 등의 총 합계 데이터는 지양하고,  \n",
    "비율로 구성된 값들만을 예측 변수로 사용해 초기 모델을 만들어 보자.\n",
    "\n",
    "- AVG : batting AVeraGe (타율)\n",
    "- OPS : On base Plus Slugging (출루율 + 장타율)\n",
    "- RISP : batting AVG at Runner In Scoring Position (득점권타율)\n",
    "- PH-BA : Pinch Hitter - Batting Average (대타 타율)\n",
    "- ERA : Earned Runs Average (평균자책점)\n",
    "- WHIP : Walks Plus Hits Divided by Innings Pitched (이닝당출루허용)\n",
    "- FPCT : Fielding PerCenTage (수비율)"
   ]
  },
  {
   "cell_type": "code",
   "execution_count": 8,
   "id": "70cd186e-f787-469b-9e0c-f82dfd430758",
   "metadata": {},
   "outputs": [],
   "source": [
    "# features : AVG, OPS, RISP(Runner In Scoring Position) AVG, \n",
    "# PH-BA(Pinch Hitter - Batting Average), ERA, WHIP, FPCT(Fielding PerCenTage)\n",
    "features = ['AVG', 'OPS', 'RISP', 'PH-BA', 'ERA', 'WHIP', 'FPCT']"
   ]
  },
  {
   "cell_type": "code",
   "execution_count": 9,
   "id": "ed5a8013-90ec-4e6a-9ab7-8b3549b861ed",
   "metadata": {},
   "outputs": [
    {
     "data": {
      "text/plain": [
       "['AVG', 'OPS', 'RISP', 'PH-BA', 'ERA', 'WHIP', 'FPCT']"
      ]
     },
     "execution_count": 9,
     "metadata": {},
     "output_type": "execute_result"
    }
   ],
   "source": [
    "list(df.loc[df['WIN'] == 1, features])"
   ]
  },
  {
   "cell_type": "code",
   "execution_count": 10,
   "id": "e33bb901-31d0-47fe-b1c6-8d1709dd8a36",
   "metadata": {},
   "outputs": [],
   "source": [
    "# Check the stats of Winners\n",
    "win = df.loc[df['WIN'] == 'Y', features].mean()"
   ]
  },
  {
   "cell_type": "code",
   "execution_count": 11,
   "id": "a9a3e795-ef49-40e0-94b8-35db38fd3b8f",
   "metadata": {},
   "outputs": [
    {
     "data": {
      "text/plain": [
       "AVG      0.286333\n",
       "OPS      0.793750\n",
       "RISP     0.294917\n",
       "PH-BA    0.224917\n",
       "ERA      4.112500\n",
       "WHIP     1.376667\n",
       "FPCT     0.984000\n",
       "dtype: float64"
      ]
     },
     "execution_count": 11,
     "metadata": {},
     "output_type": "execute_result"
    }
   ],
   "source": [
    "win"
   ]
  },
  {
   "cell_type": "code",
   "execution_count": 12,
   "id": "9991f922-e9df-416a-93f6-ba13fb351f74",
   "metadata": {},
   "outputs": [],
   "source": [
    "post = df.loc[df['POST'] == 'Y', features].mean()"
   ]
  },
  {
   "cell_type": "code",
   "execution_count": 13,
   "id": "a836ad6d-808a-425c-8eed-9ddeaf299bb5",
   "metadata": {},
   "outputs": [
    {
     "data": {
      "text/plain": [
       "AVG      0.280455\n",
       "OPS      0.781091\n",
       "RISP     0.287909\n",
       "PH-BA    0.232200\n",
       "ERA      4.334727\n",
       "WHIP     1.413091\n",
       "FPCT     0.982727\n",
       "dtype: float64"
      ]
     },
     "execution_count": 13,
     "metadata": {},
     "output_type": "execute_result"
    }
   ],
   "source": [
    "post"
   ]
  },
  {
   "cell_type": "code",
   "execution_count": 15,
   "id": "b3bfe27d-aabd-44f3-a205-81d6cbf673cb",
   "metadata": {},
   "outputs": [],
   "source": [
    "all = df.loc[:, features].mean()"
   ]
  },
  {
   "cell_type": "code",
   "execution_count": 16,
   "id": "ee2c86e9-67e9-4bdc-8eeb-f75e45d44f37",
   "metadata": {},
   "outputs": [
    {
     "data": {
      "text/plain": [
       "AVG      0.274509\n",
       "OPS      0.760875\n",
       "RISP     0.279277\n",
       "PH-BA    0.227634\n",
       "ERA      4.658304\n",
       "WHIP     1.465268\n",
       "FPCT     0.981938\n",
       "dtype: float64"
      ]
     },
     "execution_count": 16,
     "metadata": {},
     "output_type": "execute_result"
    }
   ],
   "source": [
    "all"
   ]
  },
  {
   "cell_type": "code",
   "execution_count": 17,
   "id": "651b3d89-63fa-4ae8-8ca8-cf6064793bf2",
   "metadata": {},
   "outputs": [],
   "source": [
    "feature_df = pd.DataFrame(zip(features,win,post,all), columns=['CATE','WIN', 'POST', 'ALL'])"
   ]
  },
  {
   "cell_type": "code",
   "execution_count": 19,
   "id": "e6bf73a3-0af9-45f1-8fc0-85b1ab096995",
   "metadata": {},
   "outputs": [
    {
     "data": {
      "text/html": [
       "<div>\n",
       "<style scoped>\n",
       "    .dataframe tbody tr th:only-of-type {\n",
       "        vertical-align: middle;\n",
       "    }\n",
       "\n",
       "    .dataframe tbody tr th {\n",
       "        vertical-align: top;\n",
       "    }\n",
       "\n",
       "    .dataframe thead th {\n",
       "        text-align: right;\n",
       "    }\n",
       "</style>\n",
       "<table border=\"1\" class=\"dataframe\">\n",
       "  <thead>\n",
       "    <tr style=\"text-align: right;\">\n",
       "      <th></th>\n",
       "      <th>CATE</th>\n",
       "      <th>WIN</th>\n",
       "      <th>POST</th>\n",
       "      <th>ALL</th>\n",
       "    </tr>\n",
       "  </thead>\n",
       "  <tbody>\n",
       "    <tr>\n",
       "      <th>0</th>\n",
       "      <td>AVG</td>\n",
       "      <td>0.286333</td>\n",
       "      <td>0.280455</td>\n",
       "      <td>0.274509</td>\n",
       "    </tr>\n",
       "    <tr>\n",
       "      <th>1</th>\n",
       "      <td>OPS</td>\n",
       "      <td>0.793750</td>\n",
       "      <td>0.781091</td>\n",
       "      <td>0.760875</td>\n",
       "    </tr>\n",
       "    <tr>\n",
       "      <th>2</th>\n",
       "      <td>RISP</td>\n",
       "      <td>0.294917</td>\n",
       "      <td>0.287909</td>\n",
       "      <td>0.279277</td>\n",
       "    </tr>\n",
       "    <tr>\n",
       "      <th>3</th>\n",
       "      <td>PH-BA</td>\n",
       "      <td>0.224917</td>\n",
       "      <td>0.232200</td>\n",
       "      <td>0.227634</td>\n",
       "    </tr>\n",
       "    <tr>\n",
       "      <th>4</th>\n",
       "      <td>ERA</td>\n",
       "      <td>4.112500</td>\n",
       "      <td>4.334727</td>\n",
       "      <td>4.658304</td>\n",
       "    </tr>\n",
       "    <tr>\n",
       "      <th>5</th>\n",
       "      <td>WHIP</td>\n",
       "      <td>1.376667</td>\n",
       "      <td>1.413091</td>\n",
       "      <td>1.465268</td>\n",
       "    </tr>\n",
       "    <tr>\n",
       "      <th>6</th>\n",
       "      <td>FPCT</td>\n",
       "      <td>0.984000</td>\n",
       "      <td>0.982727</td>\n",
       "      <td>0.981938</td>\n",
       "    </tr>\n",
       "  </tbody>\n",
       "</table>\n",
       "</div>"
      ],
      "text/plain": [
       "    CATE       WIN      POST       ALL\n",
       "0    AVG  0.286333  0.280455  0.274509\n",
       "1    OPS  0.793750  0.781091  0.760875\n",
       "2   RISP  0.294917  0.287909  0.279277\n",
       "3  PH-BA  0.224917  0.232200  0.227634\n",
       "4    ERA  4.112500  4.334727  4.658304\n",
       "5   WHIP  1.376667  1.413091  1.465268\n",
       "6   FPCT  0.984000  0.982727  0.981938"
      ]
     },
     "execution_count": 19,
     "metadata": {},
     "output_type": "execute_result"
    }
   ],
   "source": [
    "feature_df"
   ]
  },
  {
   "cell_type": "code",
   "execution_count": 22,
   "id": "4c06cb3e-43ee-4dd1-8cc2-03c8535f7152",
   "metadata": {},
   "outputs": [],
   "source": [
    "# Korean Font for Chart Title\n",
    "title_font = fm.FontProperties(fname='./Fonts/NanumGothicBold.ttf', size=20)"
   ]
  },
  {
   "cell_type": "code",
   "execution_count": 23,
   "id": "2950465c-c940-40bf-bb44-f6151d7fc5ba",
   "metadata": {},
   "outputs": [
    {
     "data": {
      "image/png": "[encoded data removed]",
      "text/plain": [
       "<Figure size 1008x432 with 1 Axes>"
      ]
     },
     "metadata": {
      "needs_background": "light"
     },
     "output_type": "display_data"
    }
   ],
   "source": [
    "fig, ax = plt.subplots(figsize=(14, 6))\n",
    "graph_df = feature_df.melt(id_vars='CATE').rename(columns=str.title)\n",
    "sns.barplot(x='Cate', y='Value', hue='Variable', data=graph_df, ax=ax)\n",
    "sns.despine(fig)\n",
    "\n",
    "ax.grid(False)\n",
    "ax.set_yticks([])\n",
    "\n",
    "fig.suptitle('최근 10년간 평균 기록 비교', fontproperties=title_font)\n",
    "\n",
    "for rect in ax.patches:\n",
    "    y_value = rect.get_height()\n",
    "    x_value = rect.get_x() + rect.get_width() / 2\n",
    "\n",
    "    label = '{:.3f}'.format(y_value)\n",
    "    plt.annotate(label, (x_value, y_value), ha='center', fontsize=10)\n",
    "    \n",
    "plt.show()"
   ]
  },
  {
   "cell_type": "markdown",
   "id": "99f228f4-2c20-4d18-9bde-d3d19506ca8d",
   "metadata": {},
   "source": [
    "대타 성공률을 제외한 모든 지표가 우승팀 평균이 전체 평균보다 상당히 좋은 수준을 가지고 있으므로,   \n",
    "우승팀 예측에 사용될 수 있음."
   ]
  },
  {
   "cell_type": "markdown",
   "id": "8e5660a0-d296-41be-842f-de4063027b55",
   "metadata": {},
   "source": [
    "#### 데이터 정리와 타겟 변수 설정"
   ]
  },
  {
   "cell_type": "code",
   "execution_count": 25,
   "id": "a7745d02-1eab-4cbd-b4d6-0bbb4815fc0b",
   "metadata": {},
   "outputs": [],
   "source": [
    "# Cleaning Data for Classifier\n",
    "# Change 'Y' to 1, 'N' to 0\n",
    "df['WIN'] = df['WIN'].map(lambda x: 0 if x == 'N' else 1)\n",
    "df['POST'] = df['POST'].map(lambda x: 0 if x == 'N' else 1)"
   ]
  },
  {
   "cell_type": "code",
   "execution_count": 26,
   "id": "aeeabbc9-f690-4255-8d3f-dc0ebf370f42",
   "metadata": {},
   "outputs": [],
   "source": [
    "# Set target data frames\n",
    "win_y = df['WIN']\n",
    "post_y = df['POST']"
   ]
  },
  {
   "cell_type": "code",
   "execution_count": 27,
   "id": "184deb3a-4274-42e6-9373-94af61b3d5fe",
   "metadata": {},
   "outputs": [],
   "source": [
    "# Only pick the features with Ratio because it is middle of season\n",
    "ratio_X = df[features]"
   ]
  },
  {
   "cell_type": "code",
   "execution_count": 28,
   "id": "909dab19-0e23-4963-b6ad-364ce3f8bc82",
   "metadata": {},
   "outputs": [
    {
     "data": {
      "text/html": [
       "<div>\n",
       "<style scoped>\n",
       "    .dataframe tbody tr th:only-of-type {\n",
       "        vertical-align: middle;\n",
       "    }\n",
       "\n",
       "    .dataframe tbody tr th {\n",
       "        vertical-align: top;\n",
       "    }\n",
       "\n",
       "    .dataframe thead th {\n",
       "        text-align: right;\n",
       "    }\n",
       "</style>\n",
       "<table border=\"1\" class=\"dataframe\">\n",
       "  <thead>\n",
       "    <tr style=\"text-align: right;\">\n",
       "      <th></th>\n",
       "      <th>AVG</th>\n",
       "      <th>OPS</th>\n",
       "      <th>RISP</th>\n",
       "      <th>PH-BA</th>\n",
       "      <th>ERA</th>\n",
       "      <th>WHIP</th>\n",
       "      <th>FPCT</th>\n",
       "    </tr>\n",
       "  </thead>\n",
       "  <tbody>\n",
       "    <tr>\n",
       "      <th>0</th>\n",
       "      <td>0.262</td>\n",
       "      <td>0.714</td>\n",
       "      <td>0.268</td>\n",
       "      <td>0.221</td>\n",
       "      <td>4.55</td>\n",
       "      <td>1.50</td>\n",
       "      <td>0.982</td>\n",
       "    </tr>\n",
       "    <tr>\n",
       "      <th>1</th>\n",
       "      <td>0.281</td>\n",
       "      <td>0.805</td>\n",
       "      <td>0.284</td>\n",
       "      <td>0.210</td>\n",
       "      <td>4.62</td>\n",
       "      <td>1.38</td>\n",
       "      <td>0.982</td>\n",
       "    </tr>\n",
       "    <tr>\n",
       "      <th>2</th>\n",
       "      <td>0.288</td>\n",
       "      <td>0.813</td>\n",
       "      <td>0.315</td>\n",
       "      <td>0.202</td>\n",
       "      <td>4.82</td>\n",
       "      <td>1.43</td>\n",
       "      <td>0.981</td>\n",
       "    </tr>\n",
       "    <tr>\n",
       "      <th>3</th>\n",
       "      <td>0.272</td>\n",
       "      <td>0.774</td>\n",
       "      <td>0.265</td>\n",
       "      <td>0.247</td>\n",
       "      <td>3.94</td>\n",
       "      <td>1.36</td>\n",
       "      <td>0.982</td>\n",
       "    </tr>\n",
       "    <tr>\n",
       "      <th>4</th>\n",
       "      <td>0.244</td>\n",
       "      <td>0.690</td>\n",
       "      <td>0.263</td>\n",
       "      <td>0.172</td>\n",
       "      <td>5.43</td>\n",
       "      <td>1.57</td>\n",
       "      <td>0.984</td>\n",
       "    </tr>\n",
       "  </tbody>\n",
       "</table>\n",
       "</div>"
      ],
      "text/plain": [
       "     AVG    OPS   RISP  PH-BA   ERA  WHIP   FPCT\n",
       "0  0.262  0.714  0.268  0.221  4.55  1.50  0.982\n",
       "1  0.281  0.805  0.284  0.210  4.62  1.38  0.982\n",
       "2  0.288  0.813  0.315  0.202  4.82  1.43  0.981\n",
       "3  0.272  0.774  0.265  0.247  3.94  1.36  0.982\n",
       "4  0.244  0.690  0.263  0.172  5.43  1.57  0.984"
      ]
     },
     "execution_count": 28,
     "metadata": {},
     "output_type": "execute_result"
    }
   ],
   "source": [
    "ratio_X.head()"
   ]
  },
  {
   "cell_type": "code",
   "execution_count": 29,
   "id": "42312537-3112-4a55-87c0-ef67e516bc37",
   "metadata": {},
   "outputs": [],
   "source": [
    "# Split data set for train & test model\n",
    "X_train, X_test, y_train, y_test = train_test_split(ratio_X, win_y, test_size=.2)"
   ]
  },
  {
   "cell_type": "markdown",
   "id": "8c7c118b-dac3-4643-be22-6c6731e0a78b",
   "metadata": {},
   "source": [
    "#### 로지스틱 회귀분석 모형을 사용해 초기 예측 모델 생성\n",
    "\n",
    "분류 예측 모델 중 가장 기본이 되는 로지스틱 회귀분석 모형을 사용해,  \n",
    "포스트시즌 진출 여부를 확인하는 예측 모델을 학습시켜보자"
   ]
  },
  {
   "cell_type": "code",
   "execution_count": 30,
   "id": "543f23d4-fd1b-4449-ae09-7ed8072b63f2",
   "metadata": {},
   "outputs": [],
   "source": [
    "# Set pipeline with SS & Log_Regressor\n",
    "pipeline = Pipeline([\n",
    "    ('scaler', StandardScaler()),\n",
    "    ('classifier', LogisticRegression(solver='lbfgs',\n",
    "                                      random_state=27))\n",
    "])"
   ]
  },
  {
   "cell_type": "code",
   "execution_count": 31,
   "id": "5ccea8d0-eb1d-4ace-a4e6-ab32a1e23296",
   "metadata": {},
   "outputs": [
    {
     "data": {
      "text/plain": [
       "Pipeline(steps=[('scaler', StandardScaler()),\n",
       "                ('classifier', LogisticRegression(random_state=27))])"
      ]
     },
     "execution_count": 31,
     "metadata": {},
     "output_type": "execute_result"
    }
   ],
   "source": [
    "pipeline.fit(X_train, y_train)"
   ]
  },
  {
   "cell_type": "markdown",
   "id": "6af104ad-1e1d-4d3a-bbf5-2c08a829e060",
   "metadata": {},
   "source": [
    "#### 테스트 데이터를 통한 모델 정확도 확인"
   ]
  },
  {
   "cell_type": "code",
   "execution_count": 32,
   "id": "5f9307a8-875f-475f-829a-02dc01fc87db",
   "metadata": {},
   "outputs": [],
   "source": [
    "test_preds = pipeline.predict(X_test)"
   ]
  },
  {
   "cell_type": "code",
   "execution_count": 33,
   "id": "c5001ceb-10c6-4423-80b1-44b83792cfcb",
   "metadata": {},
   "outputs": [
    {
     "name": "stdout",
     "output_type": "stream",
     "text": [
      "              precision    recall  f1-score   support\n",
      "\n",
      "           0       0.86      1.00      0.93        19\n",
      "           1       1.00      0.25      0.40         4\n",
      "\n",
      "    accuracy                           0.87        23\n",
      "   macro avg       0.93      0.62      0.66        23\n",
      "weighted avg       0.89      0.87      0.84        23\n",
      "\n"
     ]
    }
   ],
   "source": [
    "print(classification_report(y_test, test_preds))"
   ]
  },
  {
   "cell_type": "markdown",
   "id": "62590751-6c99-4d56-bbf2-dc8716b498e1",
   "metadata": {},
   "source": [
    "모델의 정확도는 87% 수준으로 비교적 정확한 편이라 할 수 있다."
   ]
  },
  {
   "cell_type": "markdown",
   "id": "b0b7255c-26c0-40f1-8877-5be51b0e3d96",
   "metadata": {},
   "source": [
    "#### 실제 데이터를 통한 확률 예측"
   ]
  },
  {
   "cell_type": "code",
   "execution_count": 38,
   "id": "3e164f39-3caa-4d41-92d2-d6376a3e9394",
   "metadata": {},
   "outputs": [],
   "source": [
    "# current stat of KBO leagues \n",
    "# AVG(타율), OPS('출루율'+'장타율'), RISP('득점권타율'), PH-BA('대타타율'), \n",
    "# ERA('평균자책점'), WHIP('이닝당출루허용'), FPCT('수비율')\n",
    "\n",
    "stat_final = {\n",
    " 'KIA': [0.272, 0.747, 0.273, 0.219, 4.2, 1.42, 0.98],\n",
    " '삼성': [0.27, 0.721, 0.281, 0.273, 4.29, 1.44, 0.978],\n",
    " 'LG': [0.269, 0.742, 0.274, 0.236, 3.33, 1.27, 0.983],\n",
    " '롯데': [0.267, 0.711, 0.259, 0.268, 4.45, 1.46, 0.979],\n",
    " 'NC': [0.257, 0.709, 0.265, 0.233, 3.9, 1.36, 0.976],\n",
    " '두산': [0.255, 0.689, 0.266, 0.246, 4.45, 1.48, 0.978],\n",
    " 'SSG': [0.254, 0.732, 0.272, 0.228, 3.87, 1.29, 0.98],\n",
    " 'KT': [0.254, 0.705, 0.239, 0.232, 3.51, 1.25, 0.982],\n",
    " '키움': [0.252, 0.697, 0.243, 0.182, 3.79, 1.34, 0.979],\n",
    " '한화': [0.245, 0.671, 0.237, 0.211, 4.83, 1.51, 0.975]\n",
    "}"
   ]
  },
  {
   "cell_type": "code",
   "execution_count": 39,
   "id": "fa112158-6491-4f8b-a741-98ecf053ff57",
   "metadata": {},
   "outputs": [
    {
     "name": "stdout",
     "output_type": "stream",
     "text": [
      "KIA :  1.869%\n",
      "삼성 :  0.3392%\n",
      "LG :  25.86%\n",
      "롯데 :  0.09988%\n",
      "NC :  0.3407%\n",
      "두산 :  0.04189%\n",
      "SSG :  2.266%\n",
      "KT :  1.946%\n",
      "키움 :  0.5758%\n",
      "한화 :  0.002464%\n"
     ]
    },
    {
     "name": "stderr",
     "output_type": "stream",
     "text": [
      "/Users/taeho/miniforge3/lib/python3.9/site-packages/sklearn/base.py:450: UserWarning: X does not have valid feature names, but StandardScaler was fitted with feature names\n",
      "  warnings.warn(\n",
      "/Users/taeho/miniforge3/lib/python3.9/site-packages/sklearn/base.py:450: UserWarning: X does not have valid feature names, but StandardScaler was fitted with feature names\n",
      "  warnings.warn(\n",
      "/Users/taeho/miniforge3/lib/python3.9/site-packages/sklearn/base.py:450: UserWarning: X does not have valid feature names, but StandardScaler was fitted with feature names\n",
      "  warnings.warn(\n",
      "/Users/taeho/miniforge3/lib/python3.9/site-packages/sklearn/base.py:450: UserWarning: X does not have valid feature names, but StandardScaler was fitted with feature names\n",
      "  warnings.warn(\n",
      "/Users/taeho/miniforge3/lib/python3.9/site-packages/sklearn/base.py:450: UserWarning: X does not have valid feature names, but StandardScaler was fitted with feature names\n",
      "  warnings.warn(\n",
      "/Users/taeho/miniforge3/lib/python3.9/site-packages/sklearn/base.py:450: UserWarning: X does not have valid feature names, but StandardScaler was fitted with feature names\n",
      "  warnings.warn(\n",
      "/Users/taeho/miniforge3/lib/python3.9/site-packages/sklearn/base.py:450: UserWarning: X does not have valid feature names, but StandardScaler was fitted with feature names\n",
      "  warnings.warn(\n",
      "/Users/taeho/miniforge3/lib/python3.9/site-packages/sklearn/base.py:450: UserWarning: X does not have valid feature names, but StandardScaler was fitted with feature names\n",
      "  warnings.warn(\n",
      "/Users/taeho/miniforge3/lib/python3.9/site-packages/sklearn/base.py:450: UserWarning: X does not have valid feature names, but StandardScaler was fitted with feature names\n",
      "  warnings.warn(\n",
      "/Users/taeho/miniforge3/lib/python3.9/site-packages/sklearn/base.py:450: UserWarning: X does not have valid feature names, but StandardScaler was fitted with feature names\n",
      "  warnings.warn(\n"
     ]
    }
   ],
   "source": [
    "# Print probabilties for each team\n",
    "predicts = {}\n",
    "for team, value in stat_final.items():\n",
    "    proba = pipeline.predict_proba([value])[0][1]*100\n",
    "    predicts[team] = proba\n",
    "    print(f'{team} :  {proba:.4}%')"
   ]
  },
  {
   "cell_type": "code",
   "execution_count": null,
   "id": "4b9bdf83-55b4-4011-9c08-a893856f78ea",
   "metadata": {},
   "outputs": [],
   "source": []
  },
  {
   "cell_type": "code",
   "execution_count": 40,
   "id": "b33f475f-6440-4f3a-9f86-7a64852f0fbf",
   "metadata": {},
   "outputs": [],
   "source": [
    "def draw_bar_chart(predicts, title='KBO 정규시즌 우승확률'):\n",
    "    # Draw chart with Seaborn\n",
    "    fig, ax = plt.subplots(figsize=(12, 6))\n",
    "    sns.barplot(x=list(predicts.keys()), y=list(predicts.values()), ax=ax)\n",
    "    sns.despine(fig)\n",
    "\n",
    "    ax.grid(False)\n",
    "    ax.set_yticks([])\n",
    "\n",
    "    fig.suptitle(title, fontproperties=title_font)\n",
    "\n",
    "    for rect in ax.patches:\n",
    "        y_value = rect.get_height()\n",
    "        x_value = rect.get_x() + rect.get_width() / 2\n",
    "\n",
    "        label = '{:.1f}%'.format(y_value)\n",
    "        plt.annotate(label, (x_value, y_value), ha='center', fontsize=10)\n",
    "\n",
    "    plt.show()"
   ]
  },
  {
   "cell_type": "markdown",
   "id": "2a42a468-383f-4158-a3fd-21aff3bcb443",
   "metadata": {},
   "source": [
    "#### 우승 데이터는 케이스가 너무 적으므로 학습/테스트 데이터를 나누지 말고 전체 데이터로 학습을 시켜보자."
   ]
  },
  {
   "cell_type": "code",
   "execution_count": 41,
   "id": "258f6528-145f-4727-b7ca-3b1e933bdcc7",
   "metadata": {},
   "outputs": [
    {
     "data": {
      "text/plain": [
       "Pipeline(steps=[('scaler', StandardScaler()),\n",
       "                ('classifier', LogisticRegression(random_state=27))])"
      ]
     },
     "execution_count": 41,
     "metadata": {},
     "output_type": "execute_result"
    }
   ],
   "source": [
    "# Train model with whole dataset\n",
    "pipeline.fit(ratio_X, win_y)"
   ]
  },
  {
   "cell_type": "code",
   "execution_count": 42,
   "id": "de932a8f-481d-41f5-97d3-ccc2a704f917",
   "metadata": {},
   "outputs": [
    {
     "name": "stdout",
     "output_type": "stream",
     "text": [
      "KIA :  2.419%\n",
      "삼성 :  0.2939%\n",
      "LG :  36.87%\n",
      "롯데 :  0.0957%\n",
      "NC :  0.3478%\n",
      "두산 :  0.03627%\n",
      "SSG :  2.315%\n",
      "KT :  2.802%\n",
      "키움 :  0.8399%\n",
      "한화 :  0.001972%\n"
     ]
    },
    {
     "name": "stderr",
     "output_type": "stream",
     "text": [
      "/Users/taeho/miniforge3/lib/python3.9/site-packages/sklearn/base.py:450: UserWarning: X does not have valid feature names, but StandardScaler was fitted with feature names\n",
      "  warnings.warn(\n",
      "/Users/taeho/miniforge3/lib/python3.9/site-packages/sklearn/base.py:450: UserWarning: X does not have valid feature names, but StandardScaler was fitted with feature names\n",
      "  warnings.warn(\n",
      "/Users/taeho/miniforge3/lib/python3.9/site-packages/sklearn/base.py:450: UserWarning: X does not have valid feature names, but StandardScaler was fitted with feature names\n",
      "  warnings.warn(\n",
      "/Users/taeho/miniforge3/lib/python3.9/site-packages/sklearn/base.py:450: UserWarning: X does not have valid feature names, but StandardScaler was fitted with feature names\n",
      "  warnings.warn(\n",
      "/Users/taeho/miniforge3/lib/python3.9/site-packages/sklearn/base.py:450: UserWarning: X does not have valid feature names, but StandardScaler was fitted with feature names\n",
      "  warnings.warn(\n",
      "/Users/taeho/miniforge3/lib/python3.9/site-packages/sklearn/base.py:450: UserWarning: X does not have valid feature names, but StandardScaler was fitted with feature names\n",
      "  warnings.warn(\n",
      "/Users/taeho/miniforge3/lib/python3.9/site-packages/sklearn/base.py:450: UserWarning: X does not have valid feature names, but StandardScaler was fitted with feature names\n",
      "  warnings.warn(\n",
      "/Users/taeho/miniforge3/lib/python3.9/site-packages/sklearn/base.py:450: UserWarning: X does not have valid feature names, but StandardScaler was fitted with feature names\n",
      "  warnings.warn(\n",
      "/Users/taeho/miniforge3/lib/python3.9/site-packages/sklearn/base.py:450: UserWarning: X does not have valid feature names, but StandardScaler was fitted with feature names\n",
      "  warnings.warn(\n",
      "/Users/taeho/miniforge3/lib/python3.9/site-packages/sklearn/base.py:450: UserWarning: X does not have valid feature names, but StandardScaler was fitted with feature names\n",
      "  warnings.warn(\n"
     ]
    }
   ],
   "source": [
    "# Print probabilties for each team\n",
    "predicts = {}\n",
    "for team, value in stat_final.items():\n",
    "    proba = pipeline.predict_proba([value])[0][1]*100\n",
    "    predicts[team] = proba\n",
    "    print(f'{team} :  {proba:.4}%')"
   ]
  },
  {
   "cell_type": "code",
   "execution_count": 43,
   "id": "9b83aebb-554d-45d3-9de9-4a2ffbdc68e6",
   "metadata": {},
   "outputs": [
    {
     "name": "stderr",
     "output_type": "stream",
     "text": [
      "/Users/taeho/miniforge3/lib/python3.9/site-packages/IPython/core/pylabtools.py:151: UserWarning: Glyph 49340 (\\N{HANGUL SYLLABLE SAM}) missing from current font.\n",
      "  fig.canvas.print_figure(bytes_io, **kw)\n",
      "/Users/taeho/miniforge3/lib/python3.9/site-packages/IPython/core/pylabtools.py:151: UserWarning: Glyph 49457 (\\N{HANGUL SYLLABLE SEONG}) missing from current font.\n",
      "  fig.canvas.print_figure(bytes_io, **kw)\n",
      "/Users/taeho/miniforge3/lib/python3.9/site-packages/IPython/core/pylabtools.py:151: UserWarning: Glyph 47215 (\\N{HANGUL SYLLABLE ROS}) missing from current font.\n",
      "  fig.canvas.print_figure(bytes_io, **kw)\n",
      "/Users/taeho/miniforge3/lib/python3.9/site-packages/IPython/core/pylabtools.py:151: UserWarning: Glyph 45936 (\\N{HANGUL SYLLABLE DE}) missing from current font.\n",
      "  fig.canvas.print_figure(bytes_io, **kw)\n",
      "/Users/taeho/miniforge3/lib/python3.9/site-packages/IPython/core/pylabtools.py:151: UserWarning: Glyph 46160 (\\N{HANGUL SYLLABLE DU}) missing from current font.\n",
      "  fig.canvas.print_figure(bytes_io, **kw)\n",
      "/Users/taeho/miniforge3/lib/python3.9/site-packages/IPython/core/pylabtools.py:151: UserWarning: Glyph 49328 (\\N{HANGUL SYLLABLE SAN}) missing from current font.\n",
      "  fig.canvas.print_figure(bytes_io, **kw)\n",
      "/Users/taeho/miniforge3/lib/python3.9/site-packages/IPython/core/pylabtools.py:151: UserWarning: Glyph 53412 (\\N{HANGUL SYLLABLE KI}) missing from current font.\n",
      "  fig.canvas.print_figure(bytes_io, **kw)\n",
      "/Users/taeho/miniforge3/lib/python3.9/site-packages/IPython/core/pylabtools.py:151: UserWarning: Glyph 50880 (\\N{HANGUL SYLLABLE UM}) missing from current font.\n",
      "  fig.canvas.print_figure(bytes_io, **kw)\n",
      "/Users/taeho/miniforge3/lib/python3.9/site-packages/IPython/core/pylabtools.py:151: UserWarning: Glyph 54620 (\\N{HANGUL SYLLABLE HAN}) missing from current font.\n",
      "  fig.canvas.print_figure(bytes_io, **kw)\n",
      "/Users/taeho/miniforge3/lib/python3.9/site-packages/IPython/core/pylabtools.py:151: UserWarning: Glyph 54868 (\\N{HANGUL SYLLABLE HWA}) missing from current font.\n",
      "  fig.canvas.print_figure(bytes_io, **kw)\n"
     ]
    },
    {
     "data": {
      "image/png": "[encoded data removed]",
      "text/plain": [
       "<Figure size 864x432 with 1 Axes>"
      ]
     },
     "metadata": {
      "needs_background": "light"
     },
     "output_type": "display_data"
    }
   ],
   "source": [
    "draw_bar_chart(predicts, 'KBO 2022 우승 확률 - 시즌 최종 성적 기준')"
   ]
  },
  {
   "cell_type": "markdown",
   "id": "aa2e221d-5de3-4074-aaed-ec4c2976be95",
   "metadata": {},
   "source": [
    "### 포스트 시즌 진출 확률 예측\n",
    "\n",
    "우승보다는 통계적으로 조금 더 유의미한 값을 구할 수 있는 포스트 시즌 예측 확률을 구해보자.\n",
    "\n",
    "KBO리그는 단일리그로 상위 5위까지 포스트 시즌에 진출 하는 형태로 운영되고 있어,  \n",
    "최근 12년간 데이터 셋 내에 보다 많은 진출/실패의 경우가 존재하고 있기 때문에,  \n",
    "우승 예측보다는 비교적 정확한 예측 모델 생성이 가능하다\n"
   ]
  },
  {
   "cell_type": "code",
   "execution_count": 44,
   "id": "6ea21f13-9ea1-4d52-8ca6-81541e00f1ad",
   "metadata": {},
   "outputs": [],
   "source": [
    "# Train & Test data\n",
    "X_train, X_test, y_train, y_test = train_test_split(ratio_X, post_y, test_size=.2)"
   ]
  },
  {
   "cell_type": "code",
   "execution_count": 45,
   "id": "516900cb-7d9f-4664-b585-baf12848d8ae",
   "metadata": {},
   "outputs": [],
   "source": [
    "# Set pipeline with SS & Log_Regressor\n",
    "pp_post_lr = Pipeline([\n",
    "    ('scaler', StandardScaler()),\n",
    "    ('classifier', LogisticRegression(solver='lbfgs', \n",
    "                                      random_state=27))\n",
    "])"
   ]
  },
  {
   "cell_type": "code",
   "execution_count": 46,
   "id": "adc18d19-5f69-48e8-8f58-9854a57e7ddb",
   "metadata": {},
   "outputs": [
    {
     "data": {
      "text/plain": [
       "Pipeline(steps=[('scaler', StandardScaler()),\n",
       "                ('classifier', LogisticRegression(random_state=27))])"
      ]
     },
     "execution_count": 46,
     "metadata": {},
     "output_type": "execute_result"
    }
   ],
   "source": [
    "# Train model\n",
    "pp_post_lr.fit(X_train, y_train)"
   ]
  },
  {
   "cell_type": "code",
   "execution_count": 47,
   "id": "45e01a54-0864-48fc-bcb1-5677fbebc05b",
   "metadata": {},
   "outputs": [],
   "source": [
    "# Predict and show model performance\n",
    "test_preds = pp_post_lr.predict(X_test)"
   ]
  },
  {
   "cell_type": "code",
   "execution_count": 48,
   "id": "36ef4b0f-5d2b-4c11-8c1a-8f46de898ea7",
   "metadata": {},
   "outputs": [
    {
     "name": "stdout",
     "output_type": "stream",
     "text": [
      "              precision    recall  f1-score   support\n",
      "\n",
      "           0       0.82      0.75      0.78        12\n",
      "           1       0.75      0.82      0.78        11\n",
      "\n",
      "    accuracy                           0.78        23\n",
      "   macro avg       0.78      0.78      0.78        23\n",
      "weighted avg       0.79      0.78      0.78        23\n",
      "\n"
     ]
    }
   ],
   "source": [
    "print(classification_report(y_test, test_preds))"
   ]
  },
  {
   "cell_type": "markdown",
   "id": "058f646d-9532-431b-8933-498b906a956c",
   "metadata": {},
   "source": [
    "최근 10년간 포스트시즌 진출 여부 데이터를 80:20 비율로 나누어  \n",
    "80%의 데이터로 학습시키고, 20% 데이터로 검증을 실시해 본 결과,   \n",
    "약 78% 수준의 정확도를 가지는 예측 모델이 학습되었다."
   ]
  },
  {
   "cell_type": "code",
   "execution_count": 49,
   "id": "cc4c8872-d76f-458e-bc62-c2eb006b2cdb",
   "metadata": {},
   "outputs": [
    {
     "name": "stdout",
     "output_type": "stream",
     "text": [
      "KIA :  62.58%\n",
      "삼성 :  51.99%\n",
      "LG :  98.95%\n",
      "롯데 :  11.31%\n",
      "NC :  47.02%\n",
      "두산 :  6.231%\n",
      "SSG :  86.01%\n",
      "KT :  68.03%\n",
      "키움 :  19.56%\n",
      "한화 :  0.08991%\n"
     ]
    },
    {
     "name": "stderr",
     "output_type": "stream",
     "text": [
      "/Users/taeho/miniforge3/lib/python3.9/site-packages/sklearn/base.py:450: UserWarning: X does not have valid feature names, but StandardScaler was fitted with feature names\n",
      "  warnings.warn(\n",
      "/Users/taeho/miniforge3/lib/python3.9/site-packages/sklearn/base.py:450: UserWarning: X does not have valid feature names, but StandardScaler was fitted with feature names\n",
      "  warnings.warn(\n",
      "/Users/taeho/miniforge3/lib/python3.9/site-packages/sklearn/base.py:450: UserWarning: X does not have valid feature names, but StandardScaler was fitted with feature names\n",
      "  warnings.warn(\n",
      "/Users/taeho/miniforge3/lib/python3.9/site-packages/sklearn/base.py:450: UserWarning: X does not have valid feature names, but StandardScaler was fitted with feature names\n",
      "  warnings.warn(\n",
      "/Users/taeho/miniforge3/lib/python3.9/site-packages/sklearn/base.py:450: UserWarning: X does not have valid feature names, but StandardScaler was fitted with feature names\n",
      "  warnings.warn(\n",
      "/Users/taeho/miniforge3/lib/python3.9/site-packages/sklearn/base.py:450: UserWarning: X does not have valid feature names, but StandardScaler was fitted with feature names\n",
      "  warnings.warn(\n",
      "/Users/taeho/miniforge3/lib/python3.9/site-packages/sklearn/base.py:450: UserWarning: X does not have valid feature names, but StandardScaler was fitted with feature names\n",
      "  warnings.warn(\n",
      "/Users/taeho/miniforge3/lib/python3.9/site-packages/sklearn/base.py:450: UserWarning: X does not have valid feature names, but StandardScaler was fitted with feature names\n",
      "  warnings.warn(\n",
      "/Users/taeho/miniforge3/lib/python3.9/site-packages/sklearn/base.py:450: UserWarning: X does not have valid feature names, but StandardScaler was fitted with feature names\n",
      "  warnings.warn(\n",
      "/Users/taeho/miniforge3/lib/python3.9/site-packages/sklearn/base.py:450: UserWarning: X does not have valid feature names, but StandardScaler was fitted with feature names\n",
      "  warnings.warn(\n"
     ]
    }
   ],
   "source": [
    "# Show odds for playoff\n",
    "predicts = {}\n",
    "for team, value in stat_final.items():\n",
    "    proba = pp_post_lr.predict_proba([value])[0][1]*100\n",
    "    predicts[team] = proba\n",
    "    print(f'{team} :  {proba:.4}%')"
   ]
  },
  {
   "cell_type": "code",
   "execution_count": 50,
   "id": "d71cb371-9e6d-42c9-98cc-123aa0903df2",
   "metadata": {},
   "outputs": [
    {
     "name": "stderr",
     "output_type": "stream",
     "text": [
      "/Users/taeho/miniforge3/lib/python3.9/site-packages/IPython/core/pylabtools.py:151: UserWarning: Glyph 49340 (\\N{HANGUL SYLLABLE SAM}) missing from current font.\n",
      "  fig.canvas.print_figure(bytes_io, **kw)\n",
      "/Users/taeho/miniforge3/lib/python3.9/site-packages/IPython/core/pylabtools.py:151: UserWarning: Glyph 49457 (\\N{HANGUL SYLLABLE SEONG}) missing from current font.\n",
      "  fig.canvas.print_figure(bytes_io, **kw)\n",
      "/Users/taeho/miniforge3/lib/python3.9/site-packages/IPython/core/pylabtools.py:151: UserWarning: Glyph 47215 (\\N{HANGUL SYLLABLE ROS}) missing from current font.\n",
      "  fig.canvas.print_figure(bytes_io, **kw)\n",
      "/Users/taeho/miniforge3/lib/python3.9/site-packages/IPython/core/pylabtools.py:151: UserWarning: Glyph 45936 (\\N{HANGUL SYLLABLE DE}) missing from current font.\n",
      "  fig.canvas.print_figure(bytes_io, **kw)\n",
      "/Users/taeho/miniforge3/lib/python3.9/site-packages/IPython/core/pylabtools.py:151: UserWarning: Glyph 46160 (\\N{HANGUL SYLLABLE DU}) missing from current font.\n",
      "  fig.canvas.print_figure(bytes_io, **kw)\n",
      "/Users/taeho/miniforge3/lib/python3.9/site-packages/IPython/core/pylabtools.py:151: UserWarning: Glyph 49328 (\\N{HANGUL SYLLABLE SAN}) missing from current font.\n",
      "  fig.canvas.print_figure(bytes_io, **kw)\n",
      "/Users/taeho/miniforge3/lib/python3.9/site-packages/IPython/core/pylabtools.py:151: UserWarning: Glyph 53412 (\\N{HANGUL SYLLABLE KI}) missing from current font.\n",
      "  fig.canvas.print_figure(bytes_io, **kw)\n",
      "/Users/taeho/miniforge3/lib/python3.9/site-packages/IPython/core/pylabtools.py:151: UserWarning: Glyph 50880 (\\N{HANGUL SYLLABLE UM}) missing from current font.\n",
      "  fig.canvas.print_figure(bytes_io, **kw)\n",
      "/Users/taeho/miniforge3/lib/python3.9/site-packages/IPython/core/pylabtools.py:151: UserWarning: Glyph 54620 (\\N{HANGUL SYLLABLE HAN}) missing from current font.\n",
      "  fig.canvas.print_figure(bytes_io, **kw)\n",
      "/Users/taeho/miniforge3/lib/python3.9/site-packages/IPython/core/pylabtools.py:151: UserWarning: Glyph 54868 (\\N{HANGUL SYLLABLE HWA}) missing from current font.\n",
      "  fig.canvas.print_figure(bytes_io, **kw)\n"
     ]
    },
    {
     "data": {
      "image/png": "[encoded data removed]",
      "text/plain": [
       "<Figure size 864x432 with 1 Axes>"
      ]
     },
     "metadata": {
      "needs_background": "light"
     },
     "output_type": "display_data"
    }
   ],
   "source": [
    "# 5/18 기준 포스트시즌 진출 확률\n",
    "draw_bar_chart(predicts, title='2022 시즌 포스트시즌 진출 확률')"
   ]
  },
  {
   "cell_type": "markdown",
   "id": "4daac4d5-6552-486e-8d25-edaf86147cd1",
   "metadata": {},
   "source": [
    "### Comment\n",
    "\n",
    "SSG :  86.01%  \n",
    "LG :  98.95%  \n",
    "키움 :  19.56%  \n",
    "KT :  68.03%  \n",
    "KIA :  62.58%  \n",
    "NC :  47.02%  \n",
    "삼성 :  51.99%  \n",
    "롯데 :  11.31%  \n",
    "두산 :  6.231%  \n",
    "한화 :  0.08991%  \n",
    "\n",
    "2022년 시즌 결과 SSG, LG, 키움, KT, 기아가 포스트 시즌에 진출하였으나,  \n",
    "현 예측 모델은 탈락한 삼성, NC의 확률이 더 높게 나타났다.  \n",
    "이는 스트라이크존 정상화가 적용된 시즌으로 이전 시즌과는 다른 양상으로 진행된 것으로 판단된다.  \n",
    "이를 설명하기 위해 다양한 변수를 활용한 상세한 분석을 진행해 볼 예정이다.  \n",
    "\n",
    "\n"
   ]
  },
  {
   "cell_type": "code",
   "execution_count": null,
   "id": "7bc3abe5-cdd6-4f18-afc0-299705b0e5cf",
   "metadata": {},
   "outputs": [],
   "source": []
  }
 ],
 "metadata": {
  "kernelspec": {
   "display_name": "Python 3 (ipykernel)",
   "language": "python",
   "name": "python3"
  },
  "language_info": {
   "codemirror_mode": {
    "name": "ipython",
    "version": 3
   },
   "file_extension": ".py",
   "mimetype": "text/x-python",
   "name": "python",
   "nbconvert_exporter": "python",
   "pygments_lexer": "ipython3",
   "version": "3.9.7"
  }
 },
 "nbformat": 4,
 "nbformat_minor": 5
}
